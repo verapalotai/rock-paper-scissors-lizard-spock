{
 "cells": [
  {
   "cell_type": "markdown",
   "metadata": {},
   "source": [
    "<img src=\"rock-paper-scissors-lizard-spock.gif\" width=400>"
   ]
  },
  {
   "cell_type": "markdown",
   "metadata": {},
   "source": [
    "### Project Description"
   ]
  },
  {
   "cell_type": "markdown",
   "metadata": {},
   "source": [
    "Goal is to build a network which is able to play Rock-Paper-Scissors-Lizard-Spock from the famous TV show, The Big Bang Theory. The input of the network is a low-resolution picture of any of the possible 5 hands and output is also an image which counters the input hand. "
   ]
  },
  {
   "cell_type": "markdown",
   "metadata": {},
   "source": [
    "### Rules"
   ]
  },
  {
   "cell_type": "markdown",
   "metadata": {},
   "source": [
    "<img src=\"game_rules.PNG\" width=10000>"
   ]
  },
  {
   "cell_type": "markdown",
   "metadata": {},
   "source": [
    "### Creating the Dataset"
   ]
  },
  {
   "cell_type": "code",
   "execution_count": 5,
   "metadata": {},
   "outputs": [],
   "source": [
    "import cv2 \n",
    "import os\n",
    "import numpy as np"
   ]
  },
  {
   "cell_type": "code",
   "execution_count": 134,
   "metadata": {},
   "outputs": [
    {
     "name": "stdout",
     "output_type": "stream",
     "text": [
      "rock/rock_100.png written!\n",
      "rock/rock_101.png written!\n",
      "rock/rock_102.png written!\n",
      "rock/rock_103.png written!\n",
      "rock/rock_104.png written!\n",
      "rock/rock_105.png written!\n",
      "rock/rock_106.png written!\n",
      "rock/rock_107.png written!\n",
      "rock/rock_108.png written!\n",
      "rock/rock_109.png written!\n",
      "rock/rock_110.png written!\n",
      "rock/rock_111.png written!\n",
      "rock/rock_112.png written!\n",
      "rock/rock_113.png written!\n",
      "rock/rock_114.png written!\n",
      "rock/rock_115.png written!\n",
      "rock/rock_116.png written!\n",
      "rock/rock_117.png written!\n",
      "rock/rock_118.png written!\n",
      "rock/rock_119.png written!\n",
      "rock/rock_120.png written!\n",
      "rock/rock_121.png written!\n",
      "rock/rock_122.png written!\n",
      "rock/rock_123.png written!\n",
      "rock/rock_124.png written!\n",
      "rock/rock_125.png written!\n",
      "rock/rock_126.png written!\n",
      "rock/rock_127.png written!\n",
      "rock/rock_128.png written!\n",
      "rock/rock_129.png written!\n",
      "rock/rock_130.png written!\n",
      "rock/rock_131.png written!\n",
      "rock/rock_132.png written!\n",
      "rock/rock_133.png written!\n",
      "rock/rock_134.png written!\n",
      "rock/rock_135.png written!\n",
      "rock/rock_136.png written!\n",
      "rock/rock_137.png written!\n",
      "rock/rock_138.png written!\n",
      "rock/rock_139.png written!\n",
      "rock/rock_140.png written!\n",
      "rock/rock_141.png written!\n",
      "rock/rock_142.png written!\n",
      "rock/rock_143.png written!\n",
      "rock/rock_144.png written!\n",
      "rock/rock_145.png written!\n",
      "rock/rock_146.png written!\n",
      "rock/rock_147.png written!\n",
      "rock/rock_148.png written!\n",
      "rock/rock_149.png written!\n",
      "rock/rock_150.png written!\n",
      "rock/rock_151.png written!\n",
      "rock/rock_152.png written!\n",
      "rock/rock_153.png written!\n",
      "rock/rock_154.png written!\n",
      "rock/rock_155.png written!\n",
      "rock/rock_156.png written!\n",
      "rock/rock_157.png written!\n",
      "rock/rock_158.png written!\n",
      "rock/rock_159.png written!\n",
      "rock/rock_160.png written!\n",
      "rock/rock_161.png written!\n",
      "rock/rock_162.png written!\n",
      "rock/rock_163.png written!\n",
      "rock/rock_164.png written!\n",
      "rock/rock_165.png written!\n",
      "rock/rock_166.png written!\n",
      "rock/rock_167.png written!\n",
      "rock/rock_168.png written!\n",
      "rock/rock_169.png written!\n",
      "rock/rock_170.png written!\n",
      "rock/rock_171.png written!\n",
      "rock/rock_172.png written!\n",
      "rock/rock_173.png written!\n",
      "rock/rock_174.png written!\n",
      "rock/rock_175.png written!\n",
      "rock/rock_176.png written!\n",
      "rock/rock_177.png written!\n",
      "rock/rock_178.png written!\n",
      "rock/rock_179.png written!\n",
      "rock/rock_180.png written!\n",
      "rock/rock_181.png written!\n",
      "rock/rock_182.png written!\n",
      "rock/rock_183.png written!\n",
      "rock/rock_184.png written!\n",
      "rock/rock_185.png written!\n",
      "rock/rock_186.png written!\n",
      "rock/rock_187.png written!\n",
      "rock/rock_188.png written!\n",
      "rock/rock_189.png written!\n",
      "rock/rock_190.png written!\n",
      "rock/rock_191.png written!\n",
      "rock/rock_192.png written!\n",
      "rock/rock_193.png written!\n",
      "rock/rock_194.png written!\n",
      "rock/rock_195.png written!\n",
      "rock/rock_196.png written!\n",
      "rock/rock_197.png written!\n",
      "rock/rock_198.png written!\n",
      "rock/rock_199.png written!\n",
      "paper/paper_100.png written!\n",
      "paper/paper_101.png written!\n",
      "paper/paper_102.png written!\n",
      "paper/paper_103.png written!\n",
      "paper/paper_104.png written!\n",
      "paper/paper_105.png written!\n",
      "paper/paper_106.png written!\n",
      "paper/paper_107.png written!\n",
      "paper/paper_108.png written!\n",
      "paper/paper_109.png written!\n",
      "paper/paper_110.png written!\n",
      "paper/paper_111.png written!\n",
      "paper/paper_112.png written!\n",
      "paper/paper_113.png written!\n",
      "paper/paper_114.png written!\n",
      "paper/paper_115.png written!\n",
      "paper/paper_116.png written!\n",
      "paper/paper_117.png written!\n",
      "paper/paper_118.png written!\n",
      "paper/paper_119.png written!\n",
      "paper/paper_120.png written!\n",
      "paper/paper_121.png written!\n",
      "paper/paper_122.png written!\n",
      "paper/paper_123.png written!\n",
      "paper/paper_124.png written!\n",
      "paper/paper_125.png written!\n",
      "paper/paper_126.png written!\n",
      "paper/paper_127.png written!\n",
      "paper/paper_128.png written!\n",
      "paper/paper_129.png written!\n",
      "paper/paper_130.png written!\n",
      "paper/paper_131.png written!\n",
      "paper/paper_132.png written!\n",
      "paper/paper_133.png written!\n",
      "paper/paper_134.png written!\n",
      "paper/paper_135.png written!\n",
      "paper/paper_136.png written!\n",
      "paper/paper_137.png written!\n",
      "paper/paper_138.png written!\n",
      "paper/paper_139.png written!\n",
      "paper/paper_140.png written!\n",
      "paper/paper_141.png written!\n",
      "paper/paper_142.png written!\n",
      "paper/paper_143.png written!\n",
      "paper/paper_144.png written!\n",
      "paper/paper_145.png written!\n",
      "paper/paper_146.png written!\n",
      "paper/paper_147.png written!\n",
      "paper/paper_148.png written!\n",
      "paper/paper_149.png written!\n",
      "paper/paper_150.png written!\n",
      "paper/paper_151.png written!\n",
      "paper/paper_152.png written!\n",
      "paper/paper_153.png written!\n",
      "paper/paper_154.png written!\n",
      "paper/paper_155.png written!\n",
      "paper/paper_156.png written!\n",
      "paper/paper_157.png written!\n",
      "paper/paper_158.png written!\n",
      "paper/paper_159.png written!\n",
      "paper/paper_160.png written!\n",
      "paper/paper_161.png written!\n",
      "paper/paper_162.png written!\n",
      "paper/paper_163.png written!\n",
      "paper/paper_164.png written!\n",
      "paper/paper_165.png written!\n",
      "paper/paper_166.png written!\n",
      "paper/paper_167.png written!\n",
      "paper/paper_168.png written!\n",
      "paper/paper_169.png written!\n",
      "paper/paper_170.png written!\n",
      "paper/paper_171.png written!\n",
      "paper/paper_172.png written!\n",
      "paper/paper_173.png written!\n",
      "paper/paper_174.png written!\n",
      "paper/paper_175.png written!\n",
      "paper/paper_176.png written!\n",
      "paper/paper_177.png written!\n",
      "paper/paper_178.png written!\n",
      "paper/paper_179.png written!\n",
      "paper/paper_180.png written!\n",
      "paper/paper_181.png written!\n",
      "paper/paper_182.png written!\n",
      "paper/paper_183.png written!\n",
      "paper/paper_184.png written!\n",
      "paper/paper_185.png written!\n",
      "paper/paper_186.png written!\n",
      "paper/paper_187.png written!\n",
      "paper/paper_188.png written!\n",
      "paper/paper_189.png written!\n",
      "paper/paper_190.png written!\n",
      "paper/paper_191.png written!\n",
      "paper/paper_192.png written!\n",
      "paper/paper_193.png written!\n",
      "paper/paper_194.png written!\n",
      "paper/paper_195.png written!\n",
      "paper/paper_196.png written!\n",
      "paper/paper_197.png written!\n",
      "paper/paper_198.png written!\n",
      "paper/paper_199.png written!\n",
      "scissors/scissors_100.png written!\n",
      "scissors/scissors_101.png written!\n",
      "scissors/scissors_102.png written!\n",
      "scissors/scissors_103.png written!\n",
      "scissors/scissors_104.png written!\n",
      "scissors/scissors_105.png written!\n",
      "scissors/scissors_106.png written!\n",
      "scissors/scissors_107.png written!\n",
      "scissors/scissors_108.png written!\n",
      "scissors/scissors_109.png written!\n",
      "scissors/scissors_110.png written!\n",
      "scissors/scissors_111.png written!\n",
      "scissors/scissors_112.png written!\n",
      "scissors/scissors_113.png written!\n",
      "scissors/scissors_114.png written!\n",
      "scissors/scissors_115.png written!\n",
      "scissors/scissors_116.png written!\n",
      "scissors/scissors_117.png written!\n",
      "scissors/scissors_118.png written!\n",
      "scissors/scissors_119.png written!\n",
      "scissors/scissors_120.png written!\n",
      "scissors/scissors_121.png written!\n",
      "scissors/scissors_122.png written!\n",
      "scissors/scissors_123.png written!\n",
      "scissors/scissors_124.png written!\n",
      "scissors/scissors_125.png written!\n",
      "scissors/scissors_126.png written!\n",
      "scissors/scissors_127.png written!\n",
      "scissors/scissors_128.png written!\n",
      "scissors/scissors_129.png written!\n",
      "scissors/scissors_130.png written!\n",
      "scissors/scissors_131.png written!\n",
      "scissors/scissors_132.png written!\n",
      "scissors/scissors_133.png written!\n",
      "scissors/scissors_134.png written!\n",
      "scissors/scissors_135.png written!\n",
      "scissors/scissors_136.png written!\n",
      "scissors/scissors_137.png written!\n",
      "scissors/scissors_138.png written!\n",
      "scissors/scissors_139.png written!\n",
      "scissors/scissors_140.png written!\n",
      "scissors/scissors_141.png written!\n",
      "scissors/scissors_142.png written!\n",
      "scissors/scissors_143.png written!\n",
      "scissors/scissors_144.png written!\n",
      "scissors/scissors_145.png written!\n",
      "scissors/scissors_146.png written!\n",
      "scissors/scissors_147.png written!\n",
      "scissors/scissors_148.png written!\n",
      "scissors/scissors_149.png written!\n",
      "scissors/scissors_150.png written!\n",
      "scissors/scissors_151.png written!\n",
      "scissors/scissors_152.png written!\n",
      "scissors/scissors_153.png written!\n",
      "scissors/scissors_154.png written!\n",
      "scissors/scissors_155.png written!\n",
      "scissors/scissors_156.png written!\n",
      "scissors/scissors_157.png written!\n",
      "scissors/scissors_158.png written!\n",
      "scissors/scissors_159.png written!\n",
      "scissors/scissors_160.png written!\n",
      "scissors/scissors_161.png written!\n",
      "scissors/scissors_162.png written!\n",
      "scissors/scissors_163.png written!\n",
      "scissors/scissors_164.png written!\n",
      "scissors/scissors_165.png written!\n",
      "scissors/scissors_166.png written!\n",
      "scissors/scissors_167.png written!\n",
      "scissors/scissors_168.png written!\n",
      "scissors/scissors_169.png written!\n",
      "scissors/scissors_170.png written!\n",
      "scissors/scissors_171.png written!\n",
      "scissors/scissors_172.png written!\n",
      "scissors/scissors_173.png written!\n",
      "scissors/scissors_174.png written!\n"
     ]
    },
    {
     "name": "stdout",
     "output_type": "stream",
     "text": [
      "scissors/scissors_175.png written!\n",
      "scissors/scissors_176.png written!\n",
      "scissors/scissors_177.png written!\n",
      "scissors/scissors_178.png written!\n",
      "scissors/scissors_179.png written!\n",
      "scissors/scissors_180.png written!\n",
      "scissors/scissors_181.png written!\n",
      "scissors/scissors_182.png written!\n",
      "scissors/scissors_183.png written!\n",
      "scissors/scissors_184.png written!\n",
      "scissors/scissors_185.png written!\n",
      "scissors/scissors_186.png written!\n",
      "scissors/scissors_187.png written!\n",
      "scissors/scissors_188.png written!\n",
      "scissors/scissors_189.png written!\n",
      "scissors/scissors_190.png written!\n",
      "scissors/scissors_191.png written!\n",
      "scissors/scissors_192.png written!\n",
      "scissors/scissors_193.png written!\n",
      "scissors/scissors_194.png written!\n",
      "scissors/scissors_195.png written!\n",
      "scissors/scissors_196.png written!\n",
      "scissors/scissors_197.png written!\n",
      "scissors/scissors_198.png written!\n",
      "scissors/scissors_199.png written!\n",
      "lizard/lizard_100.png written!\n",
      "lizard/lizard_101.png written!\n",
      "lizard/lizard_102.png written!\n",
      "lizard/lizard_103.png written!\n",
      "lizard/lizard_104.png written!\n",
      "lizard/lizard_105.png written!\n",
      "lizard/lizard_106.png written!\n",
      "lizard/lizard_107.png written!\n",
      "lizard/lizard_108.png written!\n",
      "lizard/lizard_109.png written!\n",
      "lizard/lizard_110.png written!\n",
      "lizard/lizard_111.png written!\n",
      "lizard/lizard_112.png written!\n",
      "lizard/lizard_113.png written!\n",
      "lizard/lizard_114.png written!\n",
      "lizard/lizard_115.png written!\n",
      "lizard/lizard_116.png written!\n",
      "lizard/lizard_117.png written!\n",
      "lizard/lizard_118.png written!\n",
      "lizard/lizard_119.png written!\n",
      "lizard/lizard_120.png written!\n",
      "lizard/lizard_121.png written!\n",
      "lizard/lizard_122.png written!\n",
      "lizard/lizard_123.png written!\n",
      "lizard/lizard_124.png written!\n",
      "lizard/lizard_125.png written!\n",
      "lizard/lizard_126.png written!\n",
      "lizard/lizard_127.png written!\n",
      "lizard/lizard_128.png written!\n",
      "lizard/lizard_129.png written!\n",
      "lizard/lizard_130.png written!\n",
      "lizard/lizard_131.png written!\n",
      "lizard/lizard_132.png written!\n",
      "lizard/lizard_133.png written!\n",
      "lizard/lizard_134.png written!\n",
      "lizard/lizard_135.png written!\n",
      "lizard/lizard_136.png written!\n",
      "lizard/lizard_137.png written!\n",
      "lizard/lizard_138.png written!\n",
      "lizard/lizard_139.png written!\n",
      "lizard/lizard_140.png written!\n",
      "lizard/lizard_141.png written!\n",
      "lizard/lizard_142.png written!\n",
      "lizard/lizard_143.png written!\n",
      "lizard/lizard_144.png written!\n",
      "lizard/lizard_145.png written!\n",
      "lizard/lizard_146.png written!\n",
      "lizard/lizard_147.png written!\n",
      "lizard/lizard_148.png written!\n",
      "lizard/lizard_149.png written!\n",
      "lizard/lizard_150.png written!\n",
      "lizard/lizard_151.png written!\n",
      "lizard/lizard_152.png written!\n",
      "lizard/lizard_153.png written!\n",
      "lizard/lizard_154.png written!\n",
      "lizard/lizard_155.png written!\n",
      "lizard/lizard_156.png written!\n",
      "lizard/lizard_157.png written!\n",
      "lizard/lizard_158.png written!\n",
      "lizard/lizard_159.png written!\n",
      "lizard/lizard_160.png written!\n",
      "lizard/lizard_161.png written!\n",
      "lizard/lizard_162.png written!\n",
      "lizard/lizard_163.png written!\n",
      "lizard/lizard_164.png written!\n",
      "lizard/lizard_165.png written!\n",
      "lizard/lizard_166.png written!\n",
      "lizard/lizard_167.png written!\n",
      "lizard/lizard_168.png written!\n",
      "lizard/lizard_169.png written!\n",
      "lizard/lizard_170.png written!\n",
      "lizard/lizard_171.png written!\n",
      "lizard/lizard_172.png written!\n",
      "lizard/lizard_173.png written!\n",
      "lizard/lizard_174.png written!\n",
      "lizard/lizard_175.png written!\n",
      "lizard/lizard_176.png written!\n",
      "lizard/lizard_177.png written!\n",
      "lizard/lizard_178.png written!\n",
      "lizard/lizard_179.png written!\n",
      "lizard/lizard_180.png written!\n",
      "lizard/lizard_181.png written!\n",
      "lizard/lizard_182.png written!\n",
      "lizard/lizard_183.png written!\n",
      "lizard/lizard_184.png written!\n",
      "lizard/lizard_185.png written!\n",
      "lizard/lizard_186.png written!\n",
      "lizard/lizard_187.png written!\n",
      "lizard/lizard_188.png written!\n",
      "lizard/lizard_189.png written!\n",
      "lizard/lizard_190.png written!\n",
      "lizard/lizard_191.png written!\n",
      "lizard/lizard_192.png written!\n",
      "lizard/lizard_193.png written!\n",
      "lizard/lizard_194.png written!\n",
      "lizard/lizard_195.png written!\n",
      "lizard/lizard_196.png written!\n",
      "lizard/lizard_197.png written!\n",
      "lizard/lizard_198.png written!\n",
      "lizard/lizard_199.png written!\n",
      "spock/spock_100.png written!\n",
      "spock/spock_101.png written!\n",
      "spock/spock_102.png written!\n",
      "spock/spock_103.png written!\n",
      "spock/spock_104.png written!\n",
      "spock/spock_105.png written!\n",
      "spock/spock_106.png written!\n",
      "spock/spock_107.png written!\n",
      "spock/spock_108.png written!\n",
      "spock/spock_109.png written!\n",
      "spock/spock_110.png written!\n",
      "spock/spock_111.png written!\n",
      "spock/spock_112.png written!\n",
      "spock/spock_113.png written!\n",
      "spock/spock_114.png written!\n",
      "spock/spock_115.png written!\n",
      "spock/spock_116.png written!\n",
      "spock/spock_117.png written!\n",
      "spock/spock_118.png written!\n",
      "spock/spock_119.png written!\n",
      "spock/spock_120.png written!\n",
      "spock/spock_121.png written!\n",
      "spock/spock_122.png written!\n",
      "spock/spock_123.png written!\n",
      "spock/spock_124.png written!\n",
      "spock/spock_125.png written!\n",
      "spock/spock_126.png written!\n",
      "spock/spock_127.png written!\n",
      "spock/spock_128.png written!\n",
      "spock/spock_129.png written!\n",
      "spock/spock_130.png written!\n",
      "spock/spock_131.png written!\n",
      "spock/spock_132.png written!\n",
      "spock/spock_133.png written!\n",
      "spock/spock_134.png written!\n",
      "spock/spock_135.png written!\n",
      "spock/spock_136.png written!\n",
      "spock/spock_137.png written!\n",
      "spock/spock_138.png written!\n",
      "spock/spock_139.png written!\n",
      "spock/spock_140.png written!\n",
      "spock/spock_141.png written!\n",
      "spock/spock_142.png written!\n",
      "spock/spock_143.png written!\n",
      "spock/spock_144.png written!\n",
      "spock/spock_145.png written!\n",
      "spock/spock_146.png written!\n",
      "spock/spock_147.png written!\n",
      "spock/spock_148.png written!\n",
      "spock/spock_149.png written!\n",
      "spock/spock_150.png written!\n",
      "spock/spock_151.png written!\n",
      "spock/spock_152.png written!\n",
      "spock/spock_153.png written!\n",
      "spock/spock_154.png written!\n",
      "spock/spock_155.png written!\n",
      "spock/spock_156.png written!\n",
      "spock/spock_157.png written!\n",
      "spock/spock_158.png written!\n",
      "spock/spock_159.png written!\n",
      "spock/spock_160.png written!\n",
      "spock/spock_161.png written!\n",
      "spock/spock_162.png written!\n",
      "spock/spock_163.png written!\n",
      "spock/spock_164.png written!\n",
      "spock/spock_165.png written!\n",
      "spock/spock_166.png written!\n",
      "spock/spock_167.png written!\n",
      "spock/spock_168.png written!\n",
      "spock/spock_169.png written!\n",
      "spock/spock_170.png written!\n",
      "spock/spock_171.png written!\n",
      "spock/spock_172.png written!\n",
      "spock/spock_173.png written!\n",
      "spock/spock_174.png written!\n",
      "spock/spock_175.png written!\n",
      "spock/spock_176.png written!\n",
      "spock/spock_177.png written!\n",
      "spock/spock_178.png written!\n",
      "spock/spock_179.png written!\n",
      "spock/spock_180.png written!\n",
      "spock/spock_181.png written!\n",
      "spock/spock_182.png written!\n",
      "spock/spock_183.png written!\n",
      "spock/spock_184.png written!\n",
      "spock/spock_185.png written!\n",
      "spock/spock_186.png written!\n",
      "spock/spock_187.png written!\n",
      "spock/spock_188.png written!\n",
      "spock/spock_189.png written!\n",
      "spock/spock_190.png written!\n",
      "spock/spock_191.png written!\n",
      "spock/spock_192.png written!\n",
      "spock/spock_193.png written!\n",
      "spock/spock_194.png written!\n",
      "spock/spock_195.png written!\n",
      "spock/spock_196.png written!\n",
      "spock/spock_197.png written!\n",
      "spock/spock_198.png written!\n",
      "spock/spock_199.png written!\n"
     ]
    }
   ],
   "source": [
    "# define a video capture object \n",
    "vid = cv2.VideoCapture(0) \n",
    "\n",
    "cv2.namedWindow(\"rock-paper-scissors-lizard-spock\")\n",
    "\n",
    "img_x = 64\n",
    "img_y = 64\n",
    "\n",
    "img_per_gesture = 200\n",
    "\n",
    "# list of gestures to iter through\n",
    "gestures = [\"rock\", \"paper\", \"scissors\", \"lizard\", \"spock\"]\n",
    "\n",
    "# create directory for each gesture\n",
    "def create_folder(folder_name):\n",
    "    if not os.path.exists(folder_name):\n",
    "        os.mkdir(folder_name)\n",
    "\n",
    "# for foreground extraction\n",
    "background_model = np.zeros((1,65),np.float64)\n",
    "foreground_model = np.zeros((1,65),np.float64)\n",
    "rect = (155,0,310,410)\n",
    "\n",
    "\n",
    "for gesture in gestures:\n",
    "    img_counter = 0\n",
    "    \n",
    "    create_folder(gesture)\n",
    "    \n",
    "    while(True): \n",
    "\n",
    "        # capture the video frame by frame \n",
    "        ret, frame = vid.read() \n",
    "\n",
    "        # error messgae if opencv failed to capture frame\n",
    "        if not ret:\n",
    "            print(\"failed to grab frame\")\n",
    "            break\n",
    "        \n",
    "        # display frame captured\n",
    "        cv2.putText(frame, \"Capturing frame {} of {}\".format(img_counter, gesture), (30, 60), cv2.FONT_HERSHEY_SIMPLEX, 1, (120, 255, 255))\n",
    "        \n",
    "        # display the resulting frame \n",
    "        cv2.imshow(\"rock-paper-scissors-lizard-spock\", frame)\n",
    "        \n",
    "        # process image \n",
    "        # interactive foreground extraction\n",
    "        mask = np.zeros(frame.shape[:2],np.uint8)\n",
    "        cv2.grabCut(frame,mask,rect,background_model,foreground_model,5,cv2.GC_INIT_WITH_RECT)\n",
    "        mask2 = np.where((mask==2)|(mask==0),0,1).astype('uint8')\n",
    "        frame = frame*mask2[:,:,np.newaxis]\n",
    "        \n",
    "        # convert to grayscale\n",
    "        frame = cv2.cvtColor(frame, cv2.COLOR_BGR2GRAY)\n",
    "        \n",
    "        # save image\n",
    "        img_name = \"{}/{}_{}.png\".format(gesture, gesture, img_counter)\n",
    "        frame = cv2.resize(frame, (img_x, img_y))\n",
    "        cv2.imwrite(img_name, frame)\n",
    "        print(\"{} written!\".format(img_name))\n",
    "        img_counter += 1\n",
    "        \n",
    "        # exit with ESC\n",
    "        k = cv2.waitKey(1)\n",
    "        \n",
    "        if k%256 == 27:\n",
    "            # ESC pressed\n",
    "            print(\"Escape hit, closing...\")\n",
    "            break\n",
    "        \n",
    "        # jump to next gesture\n",
    "        if img_counter == img_per_gesture:\n",
    "            break\n",
    "\n",
    "# after the loop release the cap object \n",
    "vid.release()\n",
    "\n",
    "# destroy all the windows \n",
    "cv2.destroyAllWindows() "
   ]
  },
  {
   "cell_type": "markdown",
   "metadata": {},
   "source": [
    "### Read Dataset"
   ]
  },
  {
   "cell_type": "code",
   "execution_count": 137,
   "metadata": {},
   "outputs": [
    {
     "data": {
      "text/plain": [
       "<matplotlib.image.AxesImage at 0x1a400d75488>"
      ]
     },
     "execution_count": 137,
     "metadata": {},
     "output_type": "execute_result"
    },
    {
     "data": {
      "image/png": "[encoded data removed]",
      "text/plain": [
       "<Figure size 432x288 with 1 Axes>"
      ]
     },
     "metadata": {
      "needs_background": "light"
     },
     "output_type": "display_data"
    }
   ],
   "source": [
    "import matplotlib.pyplot as plt\n",
    "import glob\n",
    "\n",
    "images = []\n",
    "\n",
    "for gesture in gestures:\n",
    "    img_dir = \"{}/*.png\".format(gesture)\n",
    "\n",
    "    tmp = [cv2.imread(file) for file in glob.glob(img_dir)]\n",
    "    images = images + tmp\n",
    "    \n",
    "# display image as an example\n",
    "plt.imshow(images[802], cmap = \"gray\")"
   ]
  },
  {
   "cell_type": "code",
   "execution_count": 138,
   "metadata": {},
   "outputs": [
    {
     "name": "stdout",
     "output_type": "stream",
     "text": [
      "[[0. 0. 1. 0. 0.]\n",
      " [0. 0. 1. 0. 0.]\n",
      " [0. 0. 1. 0. 0.]\n",
      " ...\n",
      " [0. 0. 0. 0. 1.]\n",
      " [0. 0. 0. 0. 1.]\n",
      " [0. 0. 0. 0. 1.]]\n",
      "['rock']\n"
     ]
    }
   ],
   "source": [
    "# generate one-hot encoded labels\n",
    "\n",
    "from sklearn.preprocessing import LabelEncoder\n",
    "from sklearn.preprocessing import OneHotEncoder\n",
    "\n",
    "text_labels = []\n",
    "\n",
    "for gesture in gestures:\n",
    "    tmp = [gesture] * img_per_gesture\n",
    "    text_labels = text_labels + tmp\n",
    "\n",
    "text_labels = np.array(text_labels)\n",
    "\n",
    "# integer encode (changes order to alphabetical)\n",
    "label_encoder = LabelEncoder()\n",
    "integer_encoded = label_encoder.fit_transform(text_labels)\n",
    "\n",
    "# binary encode\n",
    "onehot_encoder = OneHotEncoder(sparse=False)\n",
    "integer_encoded = integer_encoded.reshape(len(integer_encoded), 1)\n",
    "onehot_encoded = onehot_encoder.fit_transform(integer_encoded)\n",
    "labels = onehot_encoded\n",
    "print(onehot_encoded)\n",
    "\n",
    "# invert first binary encoded item for checking\n",
    "inverted = label_encoder.inverse_transform([np.argmax(onehot_encoded[0, :])])\n",
    "print(inverted)"
   ]
  },
  {
   "cell_type": "markdown",
   "metadata": {},
   "source": [
    "### Spliting the dataset into train, validation and test"
   ]
  },
  {
   "cell_type": "code",
   "execution_count": 139,
   "metadata": {},
   "outputs": [],
   "source": [
    "from sklearn.model_selection import train_test_split"
   ]
  },
  {
   "cell_type": "code",
   "execution_count": 140,
   "metadata": {},
   "outputs": [],
   "source": [
    "x_train, x_test, y_train, y_test = train_test_split(images, labels, test_size = 0.2, random_state = 123)"
   ]
  },
  {
   "cell_type": "code",
   "execution_count": 141,
   "metadata": {},
   "outputs": [],
   "source": [
    "x_train = np.array(x_train)\n",
    "x_test = np.array(x_test)"
   ]
  },
  {
   "cell_type": "markdown",
   "metadata": {},
   "source": [
    "### Rescale Images"
   ]
  },
  {
   "cell_type": "code",
   "execution_count": 142,
   "metadata": {},
   "outputs": [],
   "source": [
    "# Normalize the images\n",
    "x_train = x_train / 255\n",
    "x_test = x_test / 255"
   ]
  },
  {
   "cell_type": "code",
   "execution_count": 143,
   "metadata": {},
   "outputs": [
    {
     "data": {
      "text/plain": [
       "((800, 64, 64, 3), (200, 64, 64, 3))"
      ]
     },
     "execution_count": 143,
     "metadata": {},
     "output_type": "execute_result"
    }
   ],
   "source": [
    "x_train.shape, x_test.shape"
   ]
  },
  {
   "cell_type": "markdown",
   "metadata": {},
   "source": [
    "### Building Neural Network"
   ]
  },
  {
   "cell_type": "code",
   "execution_count": 144,
   "metadata": {},
   "outputs": [],
   "source": [
    "from keras.models import Sequential\n",
    "from keras.layers import Dense, Activation, Flatten, Dropout\n",
    "from keras.layers import Conv2D, MaxPooling2D\n",
    "from keras.optimizers import Adam\n",
    "from keras.callbacks import EarlyStopping"
   ]
  },
  {
   "cell_type": "code",
   "execution_count": 145,
   "metadata": {},
   "outputs": [],
   "source": [
    "def create_model(img_x, img_y):\n",
    "    model = Sequential()\n",
    "    model.add(Conv2D(32, kernel_size=(5, 5), activation='relu', input_shape=(img_x, img_y, 3)))\n",
    "    model.add(MaxPooling2D((2, 2)))\n",
    "    model.add(Flatten())\n",
    "    model.add(Dense(100, activation='relu'))\n",
    "    Dropout(0.3),\n",
    "    model.add(Dense(5, activation='softmax'))\n",
    "    \n",
    "    model.compile(optimizer=Adam(learning_rate=0.001), loss='categorical_crossentropy', metrics=['accuracy'])\n",
    "    model.save(\"model.h5\")\n",
    "    \n",
    "    return model"
   ]
  },
  {
   "cell_type": "code",
   "execution_count": 146,
   "metadata": {},
   "outputs": [],
   "source": [
    "model = create_model(x_train.shape[1], x_train.shape[2])"
   ]
  },
  {
   "cell_type": "code",
   "execution_count": 147,
   "metadata": {
    "scrolled": true
   },
   "outputs": [
    {
     "name": "stdout",
     "output_type": "stream",
     "text": [
      "Model: \"sequential_6\"\n",
      "_________________________________________________________________\n",
      "Layer (type)                 Output Shape              Param #   \n",
      "=================================================================\n",
      "conv2d_6 (Conv2D)            (None, 60, 60, 32)        2432      \n",
      "_________________________________________________________________\n",
      "max_pooling2d_6 (MaxPooling2 (None, 30, 30, 32)        0         \n",
      "_________________________________________________________________\n",
      "flatten_6 (Flatten)          (None, 28800)             0         \n",
      "_________________________________________________________________\n",
      "dense_10 (Dense)             (None, 100)               2880100   \n",
      "_________________________________________________________________\n",
      "dense_11 (Dense)             (None, 5)                 505       \n",
      "=================================================================\n",
      "Total params: 2,883,037\n",
      "Trainable params: 2,883,037\n",
      "Non-trainable params: 0\n",
      "_________________________________________________________________\n"
     ]
    }
   ],
   "source": [
    "model.summary()"
   ]
  },
  {
   "cell_type": "markdown",
   "metadata": {},
   "source": [
    "### Training the model"
   ]
  },
  {
   "cell_type": "code",
   "execution_count": 148,
   "metadata": {},
   "outputs": [],
   "source": [
    "# set seed for reproducibility\n",
    "from numpy.random import seed\n",
    "\n",
    "seed(123)"
   ]
  },
  {
   "cell_type": "code",
   "execution_count": 149,
   "metadata": {},
   "outputs": [
    {
     "name": "stdout",
     "output_type": "stream",
     "text": [
      "Train on 640 samples, validate on 160 samples\n",
      "Epoch 1/100\n",
      "640/640 [==============================] - 2s 3ms/step - loss: 0.7482 - accuracy: 0.7328 - val_loss: 0.5486 - val_accuracy: 0.7937\n",
      "Epoch 2/100\n",
      "640/640 [==============================] - 2s 3ms/step - loss: 0.1743 - accuracy: 0.9406 - val_loss: 0.3189 - val_accuracy: 0.9000\n",
      "Epoch 3/100\n",
      "640/640 [==============================] - 2s 3ms/step - loss: 0.0771 - accuracy: 0.9781 - val_loss: 0.2048 - val_accuracy: 0.9312\n",
      "Epoch 4/100\n",
      "640/640 [==============================] - 2s 3ms/step - loss: 0.0165 - accuracy: 0.9984 - val_loss: 0.2291 - val_accuracy: 0.9375\n",
      "Epoch 5/100\n",
      "640/640 [==============================] - 2s 3ms/step - loss: 0.0067 - accuracy: 1.0000 - val_loss: 0.2392 - val_accuracy: 0.9312\n",
      "Epoch 6/100\n",
      "640/640 [==============================] - 2s 3ms/step - loss: 0.0044 - accuracy: 1.0000 - val_loss: 0.2139 - val_accuracy: 0.9250\n"
     ]
    }
   ],
   "source": [
    "cnn = model.fit(x_train, \n",
    "                y_train,  \n",
    "                epochs=100, \n",
    "                batch_size=20,\n",
    "                validation_split=0.2,\n",
    "                callbacks=[EarlyStopping(patience=3)])"
   ]
  },
  {
   "cell_type": "markdown",
   "metadata": {},
   "source": [
    "The algorithm stopped after epoch 6 due to early stopping. The figure below shows the training and validation accuracy over time. We can see how the validation accuracy is plateauing while the training accuracy continues to improve as we star to overfit."
   ]
  },
  {
   "cell_type": "code",
   "execution_count": 150,
   "metadata": {},
   "outputs": [
    {
     "data": {
      "image/png": "[encoded data removed]",
      "text/plain": [
       "<Figure size 432x288 with 1 Axes>"
      ]
     },
     "metadata": {
      "needs_background": "light"
     },
     "output_type": "display_data"
    }
   ],
   "source": [
    "plt.plot(cnn.history['accuracy'])\n",
    "plt.plot(cnn.history['val_accuracy'])\n",
    "plt.title(\"Accuracy\")\n",
    "plt.xlabel('epoch')\n",
    "plt.ylabel('accuracy')\n",
    "plt.legend(['train','validation'])\n",
    "\n",
    "plt.show()"
   ]
  },
  {
   "cell_type": "markdown",
   "metadata": {},
   "source": [
    "### Evaluating the model"
   ]
  },
  {
   "cell_type": "code",
   "execution_count": 151,
   "metadata": {},
   "outputs": [
    {
     "name": "stdout",
     "output_type": "stream",
     "text": [
      "200/200 [==============================] - 0s 660us/step\n",
      "accuracy: 96.00%\n"
     ]
    }
   ],
   "source": [
    "score = model.evaluate(\n",
    "  x_test,\n",
    "  y_test\n",
    ")\n",
    "\n",
    "print(\"%s: %.2f%%\" % (model.metrics_names[1], score[1]*100))"
   ]
  },
  {
   "cell_type": "markdown",
   "metadata": {},
   "source": [
    "### Confusion matrix"
   ]
  },
  {
   "cell_type": "code",
   "execution_count": 152,
   "metadata": {},
   "outputs": [],
   "source": [
    "from sklearn.metrics import classification_report, confusion_matrix\n",
    "from sklearn.metrics import plot_confusion_matrix"
   ]
  },
  {
   "cell_type": "code",
   "execution_count": 153,
   "metadata": {},
   "outputs": [],
   "source": [
    "seed(123)\n",
    "\n",
    "y_pred = model.predict_classes(x_test)\n",
    "y_test_original=np.argmax(y_test,axis=1) # before one-hot encoding"
   ]
  },
  {
   "cell_type": "code",
   "execution_count": 154,
   "metadata": {
    "scrolled": true
   },
   "outputs": [
    {
     "name": "stdout",
     "output_type": "stream",
     "text": [
      "Classification report \n",
      "=======================\n",
      "              precision    recall  f1-score   support\n",
      "\n",
      "           0       1.00      0.98      0.99        41\n",
      "           1       1.00      0.93      0.97        45\n",
      "           2       0.98      1.00      0.99        42\n",
      "           3       0.89      0.92      0.91        26\n",
      "           4       0.92      0.96      0.94        46\n",
      "\n",
      "    accuracy                           0.96       200\n",
      "   macro avg       0.96      0.96      0.96       200\n",
      "weighted avg       0.96      0.96      0.96       200\n",
      "\n"
     ]
    }
   ],
   "source": [
    "print(\"Classification report \\n=======================\")\n",
    "print(classification_report(y_true=y_test_original, y_pred=y_pred))"
   ]
  },
  {
   "cell_type": "code",
   "execution_count": 155,
   "metadata": {
    "scrolled": false
   },
   "outputs": [
    {
     "data": {
      "image/png": "[encoded data removed]",
      "text/plain": [
       "<Figure size 432x288 with 2 Axes>"
      ]
     },
     "metadata": {
      "needs_background": "light"
     },
     "output_type": "display_data"
    }
   ],
   "source": [
    "import scikitplot as skplt\n",
    "skplt.metrics.plot_confusion_matrix(y_test_original, y_pred, normalize=False)\n",
    "plt.show()"
   ]
  },
  {
   "cell_type": "code",
   "execution_count": null,
   "metadata": {},
   "outputs": [],
   "source": []
  },
  {
   "cell_type": "code",
   "execution_count": null,
   "metadata": {},
   "outputs": [],
   "source": []
  }
 ],
 "metadata": {
  "kernelspec": {
   "display_name": "Python 3",
   "language": "python",
   "name": "python3"
  },
  "language_info": {
   "codemirror_mode": {
    "name": "ipython",
    "version": 3
   },
   "file_extension": ".py",
   "mimetype": "text/x-python",
   "name": "python",
   "nbconvert_exporter": "python",
   "pygments_lexer": "ipython3",
   "version": "3.7.7"
  }
 },
 "nbformat": 4,
 "nbformat_minor": 4
}
