{
 "cells": [
  {
   "cell_type": "markdown",
   "metadata": {},
   "source": [
    "<img src=\"rock-paper-scissors-lizard-spock.gif\" width=400>"
   ]
  },
  {
   "cell_type": "markdown",
   "metadata": {},
   "source": [
    "### Project Description"
   ]
  },
  {
   "cell_type": "markdown",
   "metadata": {},
   "source": [
    "Goal is to build a network which is able to play Rock-Paper-Scissors-Lizard-Spock from the famous TV show, The Big Bang Theory. The input of the network is a low-resolution picture of any of the possible 5 hands and output is also an image which counters the input hand. "
   ]
  },
  {
   "cell_type": "markdown",
   "metadata": {},
   "source": [
    "### Rules"
   ]
  },
  {
   "cell_type": "markdown",
   "metadata": {},
   "source": [
    "<img src=\"game_rules.PNG\" width=10000>"
   ]
  },
  {
   "cell_type": "markdown",
   "metadata": {},
   "source": [
    "### Creating the Dataset"
   ]
  },
  {
   "cell_type": "code",
   "execution_count": 5,
   "metadata": {},
   "outputs": [],
   "source": [
    "import cv2 \n",
    "import os\n",
    "import numpy as np"
   ]
  },
  {
   "cell_type": "code",
   "execution_count": 7,
   "metadata": {},
   "outputs": [
    {
     "name": "stdout",
     "output_type": "stream",
     "text": [
      "scissors/scissors_0.png written!\n",
      "scissors/scissors_1.png written!\n",
      "scissors/scissors_2.png written!\n",
      "scissors/scissors_3.png written!\n",
      "scissors/scissors_4.png written!\n",
      "scissors/scissors_5.png written!\n",
      "scissors/scissors_6.png written!\n",
      "scissors/scissors_7.png written!\n",
      "scissors/scissors_8.png written!\n",
      "scissors/scissors_9.png written!\n",
      "scissors/scissors_10.png written!\n",
      "scissors/scissors_11.png written!\n",
      "scissors/scissors_12.png written!\n",
      "scissors/scissors_13.png written!\n",
      "scissors/scissors_14.png written!\n",
      "scissors/scissors_15.png written!\n",
      "scissors/scissors_16.png written!\n",
      "scissors/scissors_17.png written!\n",
      "scissors/scissors_18.png written!\n",
      "scissors/scissors_19.png written!\n",
      "scissors/scissors_20.png written!\n",
      "scissors/scissors_21.png written!\n",
      "scissors/scissors_22.png written!\n",
      "scissors/scissors_23.png written!\n",
      "scissors/scissors_24.png written!\n",
      "scissors/scissors_25.png written!\n",
      "scissors/scissors_26.png written!\n",
      "scissors/scissors_27.png written!\n",
      "scissors/scissors_28.png written!\n",
      "scissors/scissors_29.png written!\n",
      "scissors/scissors_30.png written!\n",
      "scissors/scissors_31.png written!\n",
      "scissors/scissors_32.png written!\n",
      "scissors/scissors_33.png written!\n",
      "scissors/scissors_34.png written!\n",
      "scissors/scissors_35.png written!\n",
      "scissors/scissors_36.png written!\n",
      "scissors/scissors_37.png written!\n",
      "scissors/scissors_38.png written!\n",
      "scissors/scissors_39.png written!\n",
      "scissors/scissors_40.png written!\n",
      "scissors/scissors_41.png written!\n",
      "scissors/scissors_42.png written!\n",
      "scissors/scissors_43.png written!\n",
      "scissors/scissors_44.png written!\n",
      "scissors/scissors_45.png written!\n",
      "scissors/scissors_46.png written!\n",
      "scissors/scissors_47.png written!\n",
      "scissors/scissors_48.png written!\n",
      "scissors/scissors_49.png written!\n",
      "scissors/scissors_50.png written!\n",
      "scissors/scissors_51.png written!\n",
      "scissors/scissors_52.png written!\n",
      "scissors/scissors_53.png written!\n",
      "scissors/scissors_54.png written!\n",
      "scissors/scissors_55.png written!\n",
      "scissors/scissors_56.png written!\n",
      "scissors/scissors_57.png written!\n",
      "scissors/scissors_58.png written!\n",
      "scissors/scissors_59.png written!\n",
      "scissors/scissors_60.png written!\n",
      "scissors/scissors_61.png written!\n",
      "scissors/scissors_62.png written!\n",
      "scissors/scissors_63.png written!\n",
      "Escape hit, closing...\n",
      "lizard/lizard_0.png written!\n",
      "lizard/lizard_1.png written!\n",
      "lizard/lizard_2.png written!\n",
      "lizard/lizard_3.png written!\n",
      "lizard/lizard_4.png written!\n",
      "lizard/lizard_5.png written!\n",
      "lizard/lizard_6.png written!\n",
      "lizard/lizard_7.png written!\n",
      "lizard/lizard_8.png written!\n",
      "lizard/lizard_9.png written!\n",
      "lizard/lizard_10.png written!\n",
      "lizard/lizard_11.png written!\n",
      "lizard/lizard_12.png written!\n",
      "lizard/lizard_13.png written!\n",
      "lizard/lizard_14.png written!\n",
      "lizard/lizard_15.png written!\n",
      "lizard/lizard_16.png written!\n",
      "lizard/lizard_17.png written!\n",
      "lizard/lizard_18.png written!\n",
      "lizard/lizard_19.png written!\n",
      "lizard/lizard_20.png written!\n",
      "lizard/lizard_21.png written!\n",
      "lizard/lizard_22.png written!\n",
      "lizard/lizard_23.png written!\n",
      "lizard/lizard_24.png written!\n",
      "lizard/lizard_25.png written!\n",
      "lizard/lizard_26.png written!\n",
      "lizard/lizard_27.png written!\n",
      "lizard/lizard_28.png written!\n",
      "lizard/lizard_29.png written!\n",
      "lizard/lizard_30.png written!\n",
      "lizard/lizard_31.png written!\n",
      "lizard/lizard_32.png written!\n",
      "lizard/lizard_33.png written!\n",
      "lizard/lizard_34.png written!\n",
      "lizard/lizard_35.png written!\n",
      "lizard/lizard_36.png written!\n",
      "lizard/lizard_37.png written!\n",
      "lizard/lizard_38.png written!\n",
      "lizard/lizard_39.png written!\n",
      "lizard/lizard_40.png written!\n",
      "lizard/lizard_41.png written!\n",
      "lizard/lizard_42.png written!\n",
      "lizard/lizard_43.png written!\n",
      "lizard/lizard_44.png written!\n",
      "lizard/lizard_45.png written!\n",
      "lizard/lizard_46.png written!\n",
      "lizard/lizard_47.png written!\n",
      "lizard/lizard_48.png written!\n",
      "lizard/lizard_49.png written!\n",
      "lizard/lizard_50.png written!\n",
      "lizard/lizard_51.png written!\n",
      "lizard/lizard_52.png written!\n",
      "lizard/lizard_53.png written!\n",
      "lizard/lizard_54.png written!\n",
      "lizard/lizard_55.png written!\n",
      "lizard/lizard_56.png written!\n",
      "lizard/lizard_57.png written!\n",
      "lizard/lizard_58.png written!\n",
      "lizard/lizard_59.png written!\n",
      "lizard/lizard_60.png written!\n",
      "lizard/lizard_61.png written!\n",
      "lizard/lizard_62.png written!\n",
      "lizard/lizard_63.png written!\n",
      "lizard/lizard_64.png written!\n",
      "lizard/lizard_65.png written!\n",
      "lizard/lizard_66.png written!\n",
      "lizard/lizard_67.png written!\n",
      "lizard/lizard_68.png written!\n",
      "lizard/lizard_69.png written!\n",
      "lizard/lizard_70.png written!\n",
      "lizard/lizard_71.png written!\n",
      "lizard/lizard_72.png written!\n",
      "lizard/lizard_73.png written!\n",
      "lizard/lizard_74.png written!\n",
      "lizard/lizard_75.png written!\n",
      "lizard/lizard_76.png written!\n",
      "lizard/lizard_77.png written!\n",
      "lizard/lizard_78.png written!\n",
      "lizard/lizard_79.png written!\n",
      "lizard/lizard_80.png written!\n",
      "lizard/lizard_81.png written!\n",
      "lizard/lizard_82.png written!\n",
      "lizard/lizard_83.png written!\n",
      "lizard/lizard_84.png written!\n",
      "lizard/lizard_85.png written!\n",
      "lizard/lizard_86.png written!\n",
      "lizard/lizard_87.png written!\n",
      "lizard/lizard_88.png written!\n",
      "lizard/lizard_89.png written!\n",
      "lizard/lizard_90.png written!\n",
      "lizard/lizard_91.png written!\n",
      "lizard/lizard_92.png written!\n",
      "lizard/lizard_93.png written!\n",
      "lizard/lizard_94.png written!\n",
      "lizard/lizard_95.png written!\n",
      "lizard/lizard_96.png written!\n",
      "lizard/lizard_97.png written!\n",
      "lizard/lizard_98.png written!\n",
      "lizard/lizard_99.png written!\n",
      "spock/spock_0.png written!\n",
      "spock/spock_1.png written!\n",
      "spock/spock_2.png written!\n",
      "spock/spock_3.png written!\n",
      "spock/spock_4.png written!\n",
      "spock/spock_5.png written!\n",
      "spock/spock_6.png written!\n",
      "spock/spock_7.png written!\n",
      "spock/spock_8.png written!\n",
      "spock/spock_9.png written!\n",
      "spock/spock_10.png written!\n",
      "spock/spock_11.png written!\n",
      "spock/spock_12.png written!\n",
      "spock/spock_13.png written!\n",
      "spock/spock_14.png written!\n",
      "spock/spock_15.png written!\n",
      "spock/spock_16.png written!\n",
      "spock/spock_17.png written!\n",
      "spock/spock_18.png written!\n",
      "spock/spock_19.png written!\n",
      "spock/spock_20.png written!\n",
      "spock/spock_21.png written!\n",
      "spock/spock_22.png written!\n",
      "spock/spock_23.png written!\n",
      "spock/spock_24.png written!\n",
      "spock/spock_25.png written!\n",
      "spock/spock_26.png written!\n",
      "spock/spock_27.png written!\n",
      "spock/spock_28.png written!\n",
      "spock/spock_29.png written!\n",
      "spock/spock_30.png written!\n",
      "spock/spock_31.png written!\n",
      "spock/spock_32.png written!\n",
      "spock/spock_33.png written!\n",
      "spock/spock_34.png written!\n",
      "spock/spock_35.png written!\n",
      "spock/spock_36.png written!\n",
      "spock/spock_37.png written!\n",
      "spock/spock_38.png written!\n",
      "spock/spock_39.png written!\n",
      "spock/spock_40.png written!\n",
      "spock/spock_41.png written!\n",
      "spock/spock_42.png written!\n",
      "spock/spock_43.png written!\n",
      "spock/spock_44.png written!\n",
      "spock/spock_45.png written!\n",
      "spock/spock_46.png written!\n",
      "spock/spock_47.png written!\n",
      "spock/spock_48.png written!\n",
      "spock/spock_49.png written!\n",
      "spock/spock_50.png written!\n",
      "spock/spock_51.png written!\n",
      "spock/spock_52.png written!\n",
      "spock/spock_53.png written!\n",
      "spock/spock_54.png written!\n",
      "spock/spock_55.png written!\n",
      "spock/spock_56.png written!\n",
      "spock/spock_57.png written!\n",
      "spock/spock_58.png written!\n",
      "spock/spock_59.png written!\n",
      "spock/spock_60.png written!\n",
      "spock/spock_61.png written!\n",
      "spock/spock_62.png written!\n",
      "spock/spock_63.png written!\n",
      "spock/spock_64.png written!\n",
      "spock/spock_65.png written!\n",
      "spock/spock_66.png written!\n",
      "spock/spock_67.png written!\n",
      "spock/spock_68.png written!\n",
      "spock/spock_69.png written!\n",
      "spock/spock_70.png written!\n",
      "spock/spock_71.png written!\n",
      "spock/spock_72.png written!\n",
      "spock/spock_73.png written!\n",
      "spock/spock_74.png written!\n",
      "spock/spock_75.png written!\n",
      "spock/spock_76.png written!\n",
      "spock/spock_77.png written!\n",
      "spock/spock_78.png written!\n",
      "spock/spock_79.png written!\n",
      "spock/spock_80.png written!\n",
      "spock/spock_81.png written!\n",
      "spock/spock_82.png written!\n",
      "spock/spock_83.png written!\n",
      "spock/spock_84.png written!\n",
      "spock/spock_85.png written!\n",
      "spock/spock_86.png written!\n",
      "spock/spock_87.png written!\n",
      "spock/spock_88.png written!\n",
      "spock/spock_89.png written!\n",
      "spock/spock_90.png written!\n",
      "spock/spock_91.png written!\n",
      "spock/spock_92.png written!\n",
      "spock/spock_93.png written!\n",
      "spock/spock_94.png written!\n",
      "spock/spock_95.png written!\n",
      "spock/spock_96.png written!\n",
      "spock/spock_97.png written!\n",
      "spock/spock_98.png written!\n",
      "spock/spock_99.png written!\n"
     ]
    }
   ],
   "source": [
    "# define a video capture object \n",
    "vid = cv2.VideoCapture(0) \n",
    "\n",
    "cv2.namedWindow(\"rock-paper-scissors-lizard-spock\")\n",
    "\n",
    "img_x = 64\n",
    "img_y = 64\n",
    "\n",
    "img_per_gesture = 100\n",
    "\n",
    "# list of gestures to iter through\n",
    "gestures = [\"rock\", \"paper\", \"scissors\", \"lizard\", \"spock\"]\n",
    "\n",
    "# create directory for each gesture\n",
    "def create_folder(folder_name):\n",
    "    if not os.path.exists(folder_name):\n",
    "        os.mkdir(folder_name)\n",
    "\n",
    "# for foreground extraction\n",
    "background_model = np.zeros((1,65),np.float64)\n",
    "foreground_model = np.zeros((1,65),np.float64)\n",
    "rect = (155,0,310,410)\n",
    "\n",
    "\n",
    "for gesture in gestures:\n",
    "    img_counter = 0\n",
    "    \n",
    "    create_folder(gesture)\n",
    "    \n",
    "    while(True): \n",
    "\n",
    "        # capture the video frame by frame \n",
    "        ret, frame = vid.read() \n",
    "\n",
    "        # error messgae if opencv failed to capture frame\n",
    "        if not ret:\n",
    "            print(\"failed to grab frame\")\n",
    "            break\n",
    "        \n",
    "        # display frame captured\n",
    "        cv2.putText(frame, \"Capturing frame {} of {}\".format(img_counter, gesture), (30, 60), cv2.FONT_HERSHEY_SIMPLEX, 1, (120, 255, 255))\n",
    "        \n",
    "        # display the resulting frame \n",
    "        cv2.imshow(\"rock-paper-scissors-lizard-spock\", frame)\n",
    "        \n",
    "        # process image \n",
    "        # interactive foreground extraction\n",
    "        mask = np.zeros(frame.shape[:2],np.uint8)\n",
    "        cv2.grabCut(frame,mask,rect,background_model,foreground_model,5,cv2.GC_INIT_WITH_RECT)\n",
    "        mask2 = np.where((mask==2)|(mask==0),0,1).astype('uint8')\n",
    "        frame = frame*mask2[:,:,np.newaxis]\n",
    "        \n",
    "        # convert to grayscale\n",
    "        frame = cv2.cvtColor(frame, cv2.COLOR_BGR2GRAY)\n",
    "        \n",
    "        # save image\n",
    "        img_name = \"{}/{}_{}.png\".format(gesture, gesture, img_counter)\n",
    "        frame = cv2.resize(frame, (img_x, img_y))\n",
    "        cv2.imwrite(img_name, frame)\n",
    "        print(\"{} written!\".format(img_name))\n",
    "        img_counter += 1\n",
    "        \n",
    "        # exit with ESC\n",
    "        k = cv2.waitKey(1)\n",
    "        \n",
    "        if k%256 == 27:\n",
    "            # ESC pressed\n",
    "            print(\"Escape hit, closing...\")\n",
    "            break\n",
    "        \n",
    "        # jump to next gesture\n",
    "        if img_counter == img_per_gesture:\n",
    "            break\n",
    "\n",
    "# after the loop release the cap object \n",
    "vid.release()\n",
    "\n",
    "# destroy all the windows \n",
    "cv2.destroyAllWindows() "
   ]
  },
  {
   "cell_type": "markdown",
   "metadata": {},
   "source": [
    "### Read Dataset"
   ]
  },
  {
   "cell_type": "code",
   "execution_count": 77,
   "metadata": {},
   "outputs": [
    {
     "data": {
      "text/plain": [
       "<matplotlib.image.AxesImage at 0x1a46fa1f548>"
      ]
     },
     "execution_count": 77,
     "metadata": {},
     "output_type": "execute_result"
    },
    {
     "data": {
      "image/png": "[encoded data removed]",
      "text/plain": [
       "<Figure size 432x288 with 1 Axes>"
      ]
     },
     "metadata": {
      "needs_background": "light"
     },
     "output_type": "display_data"
    }
   ],
   "source": [
    "import matplotlib.pyplot as plt\n",
    "import glob\n",
    "\n",
    "images = []\n",
    "\n",
    "for gesture in gestures:\n",
    "    img_dir = \"{}/*.png\".format(gesture)\n",
    "\n",
    "    tmp = [cv2.imread(file) for file in glob.glob(img_dir)]\n",
    "    images = images + tmp\n",
    "    \n",
    "# display image as an example\n",
    "plt.imshow(images[423], cmap = \"gray\")"
   ]
  },
  {
   "cell_type": "code",
   "execution_count": 78,
   "metadata": {},
   "outputs": [
    {
     "name": "stdout",
     "output_type": "stream",
     "text": [
      "[[0. 0. 1. 0. 0.]\n",
      " [0. 0. 1. 0. 0.]\n",
      " [0. 0. 1. 0. 0.]\n",
      " ...\n",
      " [0. 0. 0. 0. 1.]\n",
      " [0. 0. 0. 0. 1.]\n",
      " [0. 0. 0. 0. 1.]]\n",
      "['rock']\n"
     ]
    }
   ],
   "source": [
    "# generate one-hot encoded labels\n",
    "\n",
    "from sklearn.preprocessing import LabelEncoder\n",
    "from sklearn.preprocessing import OneHotEncoder\n",
    "\n",
    "text_labels = []\n",
    "\n",
    "for gesture in gestures:\n",
    "    tmp = [gesture] * img_per_gesture\n",
    "    text_labels = text_labels + tmp\n",
    "\n",
    "text_labels = np.array(text_labels)\n",
    "\n",
    "# integer encode (changes order to alphabetical)\n",
    "label_encoder = LabelEncoder()\n",
    "integer_encoded = label_encoder.fit_transform(text_labels)\n",
    "\n",
    "# binary encode\n",
    "onehot_encoder = OneHotEncoder(sparse=False)\n",
    "integer_encoded = integer_encoded.reshape(len(integer_encoded), 1)\n",
    "onehot_encoded = onehot_encoder.fit_transform(integer_encoded)\n",
    "labels = onehot_encoded\n",
    "print(onehot_encoded)\n",
    "\n",
    "# invert first binary encoded item for checking\n",
    "inverted = label_encoder.inverse_transform([np.argmax(onehot_encoded[0, :])])\n",
    "print(inverted)"
   ]
  },
  {
   "cell_type": "markdown",
   "metadata": {},
   "source": [
    "### Spliting the dataset into train, validation and test"
   ]
  },
  {
   "cell_type": "code",
   "execution_count": 79,
   "metadata": {},
   "outputs": [],
   "source": [
    "from sklearn.model_selection import train_test_split"
   ]
  },
  {
   "cell_type": "code",
   "execution_count": 80,
   "metadata": {},
   "outputs": [],
   "source": [
    "x_train, x_test, y_train, y_test = train_test_split(images, labels, test_size = 0.2, random_state = 123)"
   ]
  },
  {
   "cell_type": "code",
   "execution_count": 81,
   "metadata": {},
   "outputs": [],
   "source": [
    "x_train = np.array(x_train)\n",
    "x_test = np.array(x_test)"
   ]
  },
  {
   "cell_type": "markdown",
   "metadata": {},
   "source": [
    "### Rescale Images"
   ]
  },
  {
   "cell_type": "code",
   "execution_count": 82,
   "metadata": {},
   "outputs": [],
   "source": [
    "# Normalize the images\n",
    "x_train = x_train / 255\n",
    "x_test = x_test / 255"
   ]
  },
  {
   "cell_type": "code",
   "execution_count": 84,
   "metadata": {},
   "outputs": [
    {
     "data": {
      "text/plain": [
       "((400, 64, 64, 3), (100, 64, 64, 3))"
      ]
     },
     "execution_count": 84,
     "metadata": {},
     "output_type": "execute_result"
    }
   ],
   "source": [
    "x_train.shape, x_test.shape"
   ]
  },
  {
   "cell_type": "markdown",
   "metadata": {},
   "source": [
    "### Build Neural Network"
   ]
  },
  {
   "cell_type": "code",
   "execution_count": 101,
   "metadata": {},
   "outputs": [],
   "source": [
    "from keras.models import Sequential\n",
    "from keras.layers import Dense, Activation, Flatten, Dropout\n",
    "from keras.layers import Conv2D, MaxPooling2D\n",
    "from keras.optimizers import Adam\n",
    "from keras.callbacks import EarlyStopping"
   ]
  },
  {
   "cell_type": "code",
   "execution_count": 109,
   "metadata": {},
   "outputs": [],
   "source": [
    "def create_model(img_x, img_y):\n",
    "    model = Sequential()\n",
    "    model.add(Conv2D(32, kernel_size=(5, 5), activation='relu', kernel_initializer='he_uniform', input_shape=(img_x, img_y, 3)))\n",
    "    model.add(MaxPooling2D((2, 2)))\n",
    "    model.add(Flatten())\n",
    "    model.add(Dense(100, activation='relu', kernel_initializer='he_uniform'))\n",
    "    Dropout(0.3),\n",
    "    model.add(Dense(5, activation='softmax'))\n",
    "    \n",
    "    model.compile(optimizer=Adam(learning_rate=0.001), loss='categorical_crossentropy', metrics=['accuracy'])\n",
    "    model.save(\"model.h5\")\n",
    "    \n",
    "    return model"
   ]
  },
  {
   "cell_type": "code",
   "execution_count": 110,
   "metadata": {},
   "outputs": [],
   "source": [
    "model = create_model(x_train.shape[1], x_train.shape[2])"
   ]
  },
  {
   "cell_type": "code",
   "execution_count": 111,
   "metadata": {
    "scrolled": true
   },
   "outputs": [
    {
     "name": "stdout",
     "output_type": "stream",
     "text": [
      "Model: \"sequential_4\"\n",
      "_________________________________________________________________\n",
      "Layer (type)                 Output Shape              Param #   \n",
      "=================================================================\n",
      "conv2d_4 (Conv2D)            (None, 60, 60, 32)        2432      \n",
      "_________________________________________________________________\n",
      "max_pooling2d_4 (MaxPooling2 (None, 30, 30, 32)        0         \n",
      "_________________________________________________________________\n",
      "flatten_4 (Flatten)          (None, 28800)             0         \n",
      "_________________________________________________________________\n",
      "dense_6 (Dense)              (None, 100)               2880100   \n",
      "_________________________________________________________________\n",
      "dense_7 (Dense)              (None, 5)                 505       \n",
      "=================================================================\n",
      "Total params: 2,883,037\n",
      "Trainable params: 2,883,037\n",
      "Non-trainable params: 0\n",
      "_________________________________________________________________\n"
     ]
    }
   ],
   "source": [
    "model.summary()"
   ]
  },
  {
   "cell_type": "markdown",
   "metadata": {},
   "source": [
    "### Training the model"
   ]
  },
  {
   "cell_type": "code",
   "execution_count": 112,
   "metadata": {},
   "outputs": [],
   "source": [
    "# set seed for reproducibility\n",
    "from numpy.random import seed\n",
    "\n",
    "seed(123)"
   ]
  },
  {
   "cell_type": "code",
   "execution_count": 113,
   "metadata": {},
   "outputs": [
    {
     "name": "stdout",
     "output_type": "stream",
     "text": [
      "Train on 320 samples, validate on 80 samples\n",
      "Epoch 1/100\n",
      "320/320 [==============================] - 1s 3ms/step - loss: 0.8885 - accuracy: 0.7000 - val_loss: 0.1320 - val_accuracy: 0.9500\n",
      "Epoch 2/100\n",
      "320/320 [==============================] - 1s 3ms/step - loss: 0.0713 - accuracy: 0.9781 - val_loss: 0.0305 - val_accuracy: 0.9875\n",
      "Epoch 3/100\n",
      "320/320 [==============================] - 1s 3ms/step - loss: 0.0131 - accuracy: 1.0000 - val_loss: 0.0099 - val_accuracy: 1.0000\n",
      "Epoch 4/100\n",
      "320/320 [==============================] - 1s 3ms/step - loss: 0.0051 - accuracy: 1.0000 - val_loss: 0.0076 - val_accuracy: 1.0000\n",
      "Epoch 5/100\n",
      "320/320 [==============================] - 1s 3ms/step - loss: 0.0021 - accuracy: 1.0000 - val_loss: 0.0044 - val_accuracy: 1.0000\n",
      "Epoch 6/100\n",
      "320/320 [==============================] - 1s 3ms/step - loss: 0.0015 - accuracy: 1.0000 - val_loss: 0.0036 - val_accuracy: 1.0000\n",
      "Epoch 7/100\n",
      "320/320 [==============================] - 1s 3ms/step - loss: 0.0011 - accuracy: 1.0000 - val_loss: 0.0031 - val_accuracy: 1.0000\n",
      "Epoch 8/100\n",
      "320/320 [==============================] - 1s 3ms/step - loss: 8.6626e-04 - accuracy: 1.0000 - val_loss: 0.0028 - val_accuracy: 1.0000\n",
      "Epoch 9/100\n",
      "320/320 [==============================] - 1s 3ms/step - loss: 6.9421e-04 - accuracy: 1.0000 - val_loss: 0.0025 - val_accuracy: 1.0000\n",
      "Epoch 10/100\n",
      "320/320 [==============================] - 1s 3ms/step - loss: 5.6413e-04 - accuracy: 1.0000 - val_loss: 0.0022 - val_accuracy: 1.0000\n",
      "Epoch 11/100\n",
      "320/320 [==============================] - 1s 3ms/step - loss: 4.7261e-04 - accuracy: 1.0000 - val_loss: 0.0021 - val_accuracy: 1.0000\n",
      "Epoch 12/100\n",
      "320/320 [==============================] - 1s 3ms/step - loss: 3.8640e-04 - accuracy: 1.0000 - val_loss: 0.0019 - val_accuracy: 1.0000\n",
      "Epoch 13/100\n",
      "320/320 [==============================] - 1s 3ms/step - loss: 3.3950e-04 - accuracy: 1.0000 - val_loss: 0.0020 - val_accuracy: 1.0000\n",
      "Epoch 14/100\n",
      "320/320 [==============================] - 1s 3ms/step - loss: 2.8340e-04 - accuracy: 1.0000 - val_loss: 0.0016 - val_accuracy: 1.0000\n",
      "Epoch 15/100\n",
      "320/320 [==============================] - 1s 4ms/step - loss: 2.4672e-04 - accuracy: 1.0000 - val_loss: 0.0014 - val_accuracy: 1.0000\n",
      "Epoch 16/100\n",
      "320/320 [==============================] - 1s 4ms/step - loss: 2.1330e-04 - accuracy: 1.0000 - val_loss: 0.0015 - val_accuracy: 1.0000\n",
      "Epoch 17/100\n",
      "320/320 [==============================] - 1s 4ms/step - loss: 1.9049e-04 - accuracy: 1.0000 - val_loss: 0.0013 - val_accuracy: 1.0000\n",
      "Epoch 18/100\n",
      "320/320 [==============================] - 1s 4ms/step - loss: 1.6890e-04 - accuracy: 1.0000 - val_loss: 0.0012 - val_accuracy: 1.0000\n",
      "Epoch 19/100\n",
      "320/320 [==============================] - 1s 4ms/step - loss: 1.5164e-04 - accuracy: 1.0000 - val_loss: 0.0013 - val_accuracy: 1.0000\n",
      "Epoch 20/100\n",
      "320/320 [==============================] - 1s 3ms/step - loss: 1.3736e-04 - accuracy: 1.0000 - val_loss: 0.0011 - val_accuracy: 1.0000\n",
      "Epoch 21/100\n",
      "320/320 [==============================] - 1s 3ms/step - loss: 1.2580e-04 - accuracy: 1.0000 - val_loss: 0.0011 - val_accuracy: 1.0000\n",
      "Epoch 22/100\n",
      "320/320 [==============================] - 1s 3ms/step - loss: 1.1493e-04 - accuracy: 1.0000 - val_loss: 0.0011 - val_accuracy: 1.0000\n",
      "Epoch 23/100\n",
      "320/320 [==============================] - 1s 3ms/step - loss: 1.0616e-04 - accuracy: 1.0000 - val_loss: 0.0011 - val_accuracy: 1.0000\n",
      "Epoch 24/100\n",
      "320/320 [==============================] - 1s 3ms/step - loss: 9.8659e-05 - accuracy: 1.0000 - val_loss: 8.9203e-04 - val_accuracy: 1.0000\n",
      "Epoch 25/100\n",
      "320/320 [==============================] - 1s 3ms/step - loss: 9.1132e-05 - accuracy: 1.0000 - val_loss: 9.9334e-04 - val_accuracy: 1.0000\n",
      "Epoch 26/100\n",
      "320/320 [==============================] - 1s 4ms/step - loss: 8.4609e-05 - accuracy: 1.0000 - val_loss: 9.5390e-04 - val_accuracy: 1.0000\n",
      "Epoch 27/100\n",
      "320/320 [==============================] - 1s 3ms/step - loss: 8.0109e-05 - accuracy: 1.0000 - val_loss: 8.5029e-04 - val_accuracy: 1.0000\n",
      "Epoch 28/100\n",
      "320/320 [==============================] - 1s 4ms/step - loss: 7.4496e-05 - accuracy: 1.0000 - val_loss: 8.5671e-04 - val_accuracy: 1.0000\n",
      "Epoch 29/100\n",
      "320/320 [==============================] - 1s 4ms/step - loss: 7.0013e-05 - accuracy: 1.0000 - val_loss: 8.4925e-04 - val_accuracy: 1.0000\n",
      "Epoch 30/100\n",
      "320/320 [==============================] - 1s 4ms/step - loss: 6.6386e-05 - accuracy: 1.0000 - val_loss: 7.3250e-04 - val_accuracy: 1.0000\n",
      "Epoch 31/100\n",
      "320/320 [==============================] - 1s 4ms/step - loss: 6.2396e-05 - accuracy: 1.0000 - val_loss: 7.5690e-04 - val_accuracy: 1.0000\n",
      "Epoch 32/100\n",
      "320/320 [==============================] - 1s 4ms/step - loss: 5.9292e-05 - accuracy: 1.0000 - val_loss: 6.8629e-04 - val_accuracy: 1.0000\n",
      "Epoch 33/100\n",
      "320/320 [==============================] - 1s 3ms/step - loss: 5.5392e-05 - accuracy: 1.0000 - val_loss: 6.7762e-04 - val_accuracy: 1.0000\n",
      "Epoch 34/100\n",
      "320/320 [==============================] - 1s 3ms/step - loss: 5.2346e-05 - accuracy: 1.0000 - val_loss: 6.4703e-04 - val_accuracy: 1.0000\n",
      "Epoch 35/100\n",
      "320/320 [==============================] - 1s 3ms/step - loss: 4.9454e-05 - accuracy: 1.0000 - val_loss: 5.9630e-04 - val_accuracy: 1.0000\n",
      "Epoch 36/100\n",
      "320/320 [==============================] - 1s 3ms/step - loss: 4.7179e-05 - accuracy: 1.0000 - val_loss: 5.8178e-04 - val_accuracy: 1.0000\n",
      "Epoch 37/100\n",
      "320/320 [==============================] - 1s 3ms/step - loss: 4.4416e-05 - accuracy: 1.0000 - val_loss: 5.2184e-04 - val_accuracy: 1.0000\n",
      "Epoch 38/100\n",
      "320/320 [==============================] - 1s 4ms/step - loss: 4.2388e-05 - accuracy: 1.0000 - val_loss: 5.0787e-04 - val_accuracy: 1.0000\n",
      "Epoch 39/100\n",
      "320/320 [==============================] - 1s 3ms/step - loss: 3.9935e-05 - accuracy: 1.0000 - val_loss: 5.1061e-04 - val_accuracy: 1.0000\n",
      "Epoch 40/100\n",
      "320/320 [==============================] - 1s 4ms/step - loss: 3.8374e-05 - accuracy: 1.0000 - val_loss: 4.8744e-04 - val_accuracy: 1.0000\n",
      "Epoch 41/100\n",
      "320/320 [==============================] - 1s 4ms/step - loss: 3.6495e-05 - accuracy: 1.0000 - val_loss: 4.9289e-04 - val_accuracy: 1.0000\n",
      "Epoch 42/100\n",
      "320/320 [==============================] - 1s 4ms/step - loss: 3.5055e-05 - accuracy: 1.0000 - val_loss: 4.5421e-04 - val_accuracy: 1.0000\n",
      "Epoch 43/100\n",
      "320/320 [==============================] - 1s 4ms/step - loss: 3.3317e-05 - accuracy: 1.0000 - val_loss: 4.4321e-04 - val_accuracy: 1.0000\n",
      "Epoch 44/100\n",
      "320/320 [==============================] - 1s 4ms/step - loss: 3.2168e-05 - accuracy: 1.0000 - val_loss: 4.4570e-04 - val_accuracy: 1.0000\n",
      "Epoch 45/100\n",
      "320/320 [==============================] - 1s 4ms/step - loss: 3.1369e-05 - accuracy: 1.0000 - val_loss: 4.4316e-04 - val_accuracy: 1.0000\n",
      "Epoch 46/100\n",
      "320/320 [==============================] - 1s 4ms/step - loss: 2.9084e-05 - accuracy: 1.0000 - val_loss: 4.1142e-04 - val_accuracy: 1.0000\n",
      "Epoch 47/100\n",
      "320/320 [==============================] - 1s 4ms/step - loss: 2.8512e-05 - accuracy: 1.0000 - val_loss: 3.6868e-04 - val_accuracy: 1.0000\n",
      "Epoch 48/100\n",
      "320/320 [==============================] - 1s 4ms/step - loss: 2.6932e-05 - accuracy: 1.0000 - val_loss: 3.6764e-04 - val_accuracy: 1.0000\n",
      "Epoch 49/100\n",
      "320/320 [==============================] - 1s 4ms/step - loss: 2.6063e-05 - accuracy: 1.0000 - val_loss: 3.6606e-04 - val_accuracy: 1.0000\n",
      "Epoch 50/100\n",
      "320/320 [==============================] - 1s 4ms/step - loss: 2.5200e-05 - accuracy: 1.0000 - val_loss: 3.6605e-04 - val_accuracy: 1.0000\n",
      "Epoch 51/100\n",
      "320/320 [==============================] - 1s 3ms/step - loss: 2.3997e-05 - accuracy: 1.0000 - val_loss: 3.4668e-04 - val_accuracy: 1.0000\n",
      "Epoch 52/100\n",
      "320/320 [==============================] - 1s 3ms/step - loss: 2.3368e-05 - accuracy: 1.0000 - val_loss: 3.4424e-04 - val_accuracy: 1.0000\n",
      "Epoch 53/100\n",
      "320/320 [==============================] - 1s 4ms/step - loss: 2.2723e-05 - accuracy: 1.0000 - val_loss: 3.1752e-04 - val_accuracy: 1.0000\n",
      "Epoch 54/100\n",
      "320/320 [==============================] - 1s 4ms/step - loss: 2.1591e-05 - accuracy: 1.0000 - val_loss: 3.1822e-04 - val_accuracy: 1.0000\n",
      "Epoch 55/100\n"
     ]
    },
    {
     "name": "stdout",
     "output_type": "stream",
     "text": [
      "320/320 [==============================] - 1s 4ms/step - loss: 2.0935e-05 - accuracy: 1.0000 - val_loss: 3.1559e-04 - val_accuracy: 1.0000\n",
      "Epoch 56/100\n",
      "320/320 [==============================] - 1s 4ms/step - loss: 2.0193e-05 - accuracy: 1.0000 - val_loss: 3.1409e-04 - val_accuracy: 1.0000\n",
      "Epoch 57/100\n",
      "320/320 [==============================] - 1s 4ms/step - loss: 1.9444e-05 - accuracy: 1.0000 - val_loss: 3.0101e-04 - val_accuracy: 1.0000\n",
      "Epoch 58/100\n",
      "320/320 [==============================] - 1s 4ms/step - loss: 1.8950e-05 - accuracy: 1.0000 - val_loss: 2.9653e-04 - val_accuracy: 1.0000\n",
      "Epoch 59/100\n",
      "320/320 [==============================] - 1s 4ms/step - loss: 1.8403e-05 - accuracy: 1.0000 - val_loss: 2.7914e-04 - val_accuracy: 1.0000\n",
      "Epoch 60/100\n",
      "320/320 [==============================] - 1s 4ms/step - loss: 1.8017e-05 - accuracy: 1.0000 - val_loss: 2.7688e-04 - val_accuracy: 1.0000\n",
      "Epoch 61/100\n",
      "320/320 [==============================] - 1s 4ms/step - loss: 1.7182e-05 - accuracy: 1.0000 - val_loss: 2.6711e-04 - val_accuracy: 1.0000\n",
      "Epoch 62/100\n",
      "320/320 [==============================] - 1s 4ms/step - loss: 1.6706e-05 - accuracy: 1.0000 - val_loss: 2.7045e-04 - val_accuracy: 1.0000\n",
      "Epoch 63/100\n",
      "320/320 [==============================] - 1s 3ms/step - loss: 1.6179e-05 - accuracy: 1.0000 - val_loss: 2.6844e-04 - val_accuracy: 1.0000\n",
      "Epoch 64/100\n",
      "320/320 [==============================] - 1s 3ms/step - loss: 1.5789e-05 - accuracy: 1.0000 - val_loss: 2.5586e-04 - val_accuracy: 1.0000\n",
      "Epoch 65/100\n",
      "320/320 [==============================] - 1s 3ms/step - loss: 1.5370e-05 - accuracy: 1.0000 - val_loss: 2.6181e-04 - val_accuracy: 1.0000\n",
      "Epoch 66/100\n",
      "320/320 [==============================] - 1s 4ms/step - loss: 1.4958e-05 - accuracy: 1.0000 - val_loss: 2.3930e-04 - val_accuracy: 1.0000\n",
      "Epoch 67/100\n",
      "320/320 [==============================] - 1s 4ms/step - loss: 1.4498e-05 - accuracy: 1.0000 - val_loss: 2.3301e-04 - val_accuracy: 1.0000\n",
      "Epoch 68/100\n",
      "320/320 [==============================] - 1s 4ms/step - loss: 1.4173e-05 - accuracy: 1.0000 - val_loss: 2.3551e-04 - val_accuracy: 1.0000\n",
      "Epoch 69/100\n",
      "320/320 [==============================] - 1s 4ms/step - loss: 1.3662e-05 - accuracy: 1.0000 - val_loss: 2.3428e-04 - val_accuracy: 1.0000\n",
      "Epoch 70/100\n",
      "320/320 [==============================] - 1s 4ms/step - loss: 1.3582e-05 - accuracy: 1.0000 - val_loss: 2.4172e-04 - val_accuracy: 1.0000\n"
     ]
    }
   ],
   "source": [
    "cnn = model.fit(x_train, \n",
    "                y_train,  \n",
    "                epochs=100, \n",
    "                batch_size=20,\n",
    "                validation_split=0.2,\n",
    "                callbacks=[EarlyStopping(patience=3)])"
   ]
  },
  {
   "cell_type": "markdown",
   "metadata": {},
   "source": [
    "The algorithm stopped after epoch 4 due to early stopping. The figure below shows the training and validation accuracy over time. We can see how the validation accuracy is plateauing while the training accuracy continues to slowly improve as we star to overfit."
   ]
  },
  {
   "cell_type": "code",
   "execution_count": 114,
   "metadata": {},
   "outputs": [
    {
     "data": {
      "image/png": "[encoded data removed]",
      "text/plain": [
       "<Figure size 432x288 with 1 Axes>"
      ]
     },
     "metadata": {
      "needs_background": "light"
     },
     "output_type": "display_data"
    }
   ],
   "source": [
    "plt.plot(cnn.history['accuracy'])\n",
    "plt.plot(cnn.history['val_accuracy'])\n",
    "plt.title(\"Accuracy\")\n",
    "plt.xlabel('epoch')\n",
    "plt.ylabel('accuracy')\n",
    "plt.legend(['train','validation'])\n",
    "\n",
    "plt.show()"
   ]
  },
  {
   "cell_type": "markdown",
   "metadata": {},
   "source": [
    "### Evaluating the model"
   ]
  },
  {
   "cell_type": "code",
   "execution_count": 115,
   "metadata": {},
   "outputs": [
    {
     "name": "stdout",
     "output_type": "stream",
     "text": [
      "100/100 [==============================] - 0s 626us/step\n",
      "accuracy: 100.00%\n"
     ]
    }
   ],
   "source": [
    "score = model.evaluate(\n",
    "  x_test,\n",
    "  y_test\n",
    ")\n",
    "\n",
    "print(\"%s: %.2f%%\" % (model.metrics_names[1], score[1]*100))"
   ]
  },
  {
   "cell_type": "markdown",
   "metadata": {},
   "source": [
    "### Confusion matrix"
   ]
  },
  {
   "cell_type": "code",
   "execution_count": 116,
   "metadata": {},
   "outputs": [],
   "source": [
    "from sklearn.metrics import classification_report, confusion_matrix\n",
    "from sklearn.metrics import plot_confusion_matrix"
   ]
  },
  {
   "cell_type": "code",
   "execution_count": 120,
   "metadata": {},
   "outputs": [],
   "source": [
    "seed(123)\n",
    "\n",
    "y_pred = model.predict_classes(x_test)\n",
    "y_test_original=np.argmax(y_test,axis=1) # before one-hot encoding"
   ]
  },
  {
   "cell_type": "code",
   "execution_count": 121,
   "metadata": {
    "scrolled": true
   },
   "outputs": [
    {
     "name": "stdout",
     "output_type": "stream",
     "text": [
      "Classification report \n",
      "=======================\n",
      "              precision    recall  f1-score   support\n",
      "\n",
      "           0       1.00      1.00      1.00        24\n",
      "           1       1.00      1.00      1.00        22\n",
      "           2       1.00      1.00      1.00        22\n",
      "           3       1.00      1.00      1.00        19\n",
      "           4       1.00      1.00      1.00        13\n",
      "\n",
      "    accuracy                           1.00       100\n",
      "   macro avg       1.00      1.00      1.00       100\n",
      "weighted avg       1.00      1.00      1.00       100\n",
      "\n"
     ]
    }
   ],
   "source": [
    "print(\"Classification report \\n=======================\")\n",
    "print(classification_report(y_true=y_test_original, y_pred=y_pred))"
   ]
  },
  {
   "cell_type": "code",
   "execution_count": 122,
   "metadata": {
    "scrolled": false
   },
   "outputs": [
    {
     "data": {
      "image/png": "[encoded data removed]",
      "text/plain": [
       "<Figure size 432x288 with 2 Axes>"
      ]
     },
     "metadata": {
      "needs_background": "light"
     },
     "output_type": "display_data"
    }
   ],
   "source": [
    "import scikitplot as skplt\n",
    "skplt.metrics.plot_confusion_matrix(y_test_original, y_pred, normalize=False)\n",
    "plt.show()"
   ]
  },
  {
   "cell_type": "code",
   "execution_count": null,
   "metadata": {},
   "outputs": [],
   "source": []
  }
 ],
 "metadata": {
  "kernelspec": {
   "display_name": "Python 3",
   "language": "python",
   "name": "python3"
  },
  "language_info": {
   "codemirror_mode": {
    "name": "ipython",
    "version": 3
   },
   "file_extension": ".py",
   "mimetype": "text/x-python",
   "name": "python",
   "nbconvert_exporter": "python",
   "pygments_lexer": "ipython3",
   "version": "3.7.7"
  }
 },
 "nbformat": 4,
 "nbformat_minor": 4
}
