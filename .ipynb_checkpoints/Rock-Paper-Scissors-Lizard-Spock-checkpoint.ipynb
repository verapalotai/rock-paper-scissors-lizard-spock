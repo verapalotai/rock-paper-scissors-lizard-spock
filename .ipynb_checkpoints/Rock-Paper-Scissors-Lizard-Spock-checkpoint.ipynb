{
 "cells": [
  {
   "cell_type": "markdown",
   "metadata": {},
   "source": [
    "<img src=\"rock-paper-scissors-lizard-spock.gif\" width=400>"
   ]
  },
  {
   "cell_type": "markdown",
   "metadata": {},
   "source": [
    "### Project Description"
   ]
  },
  {
   "cell_type": "markdown",
   "metadata": {},
   "source": [
    "Goal is to build a network which is able to play Rock-Paper-Scissors-Lizard-Spock from the famous TV show, The Big Bang Theory. The input of the network is a low-resolution picture of any of the possible 5 hands and output is also an image which counters the input hand. "
   ]
  },
  {
   "cell_type": "markdown",
   "metadata": {},
   "source": [
    "### Rules"
   ]
  },
  {
   "cell_type": "markdown",
   "metadata": {},
   "source": [
    "<img src=\"game_rules.PNG\" width=10000>"
   ]
  },
  {
   "cell_type": "markdown",
   "metadata": {},
   "source": [
    "# PART 1 - DATASET CREATION"
   ]
  },
  {
   "cell_type": "markdown",
   "metadata": {},
   "source": [
    "### Creating the Dataset"
   ]
  },
  {
   "cell_type": "code",
   "execution_count": 113,
   "metadata": {},
   "outputs": [],
   "source": [
    "import cv2 \n",
    "import os\n",
    "import numpy as np"
   ]
  },
  {
   "cell_type": "code",
   "execution_count": 114,
   "metadata": {},
   "outputs": [
    {
     "name": "stdout",
     "output_type": "stream",
     "text": [
      "rock/rock_200.png written!\n",
      "rock/rock_201.png written!\n",
      "rock/rock_202.png written!\n",
      "rock/rock_203.png written!\n",
      "rock/rock_204.png written!\n",
      "rock/rock_205.png written!\n",
      "rock/rock_206.png written!\n",
      "rock/rock_207.png written!\n",
      "rock/rock_208.png written!\n",
      "rock/rock_209.png written!\n",
      "rock/rock_210.png written!\n",
      "rock/rock_211.png written!\n",
      "rock/rock_212.png written!\n",
      "rock/rock_213.png written!\n",
      "rock/rock_214.png written!\n",
      "rock/rock_215.png written!\n",
      "rock/rock_216.png written!\n",
      "rock/rock_217.png written!\n",
      "rock/rock_218.png written!\n",
      "rock/rock_219.png written!\n",
      "rock/rock_220.png written!\n",
      "rock/rock_221.png written!\n",
      "rock/rock_222.png written!\n",
      "rock/rock_223.png written!\n",
      "rock/rock_224.png written!\n",
      "rock/rock_225.png written!\n",
      "rock/rock_226.png written!\n",
      "rock/rock_227.png written!\n",
      "rock/rock_228.png written!\n",
      "rock/rock_229.png written!\n",
      "rock/rock_230.png written!\n",
      "rock/rock_231.png written!\n",
      "rock/rock_232.png written!\n",
      "rock/rock_233.png written!\n",
      "rock/rock_234.png written!\n",
      "rock/rock_235.png written!\n",
      "rock/rock_236.png written!\n",
      "rock/rock_237.png written!\n",
      "rock/rock_238.png written!\n",
      "rock/rock_239.png written!\n",
      "rock/rock_240.png written!\n",
      "rock/rock_241.png written!\n",
      "rock/rock_242.png written!\n",
      "rock/rock_243.png written!\n",
      "rock/rock_244.png written!\n",
      "rock/rock_245.png written!\n",
      "rock/rock_246.png written!\n",
      "rock/rock_247.png written!\n",
      "rock/rock_248.png written!\n",
      "rock/rock_249.png written!\n",
      "rock/rock_250.png written!\n",
      "rock/rock_251.png written!\n",
      "rock/rock_252.png written!\n",
      "rock/rock_253.png written!\n",
      "rock/rock_254.png written!\n",
      "rock/rock_255.png written!\n",
      "rock/rock_256.png written!\n",
      "rock/rock_257.png written!\n",
      "rock/rock_258.png written!\n",
      "rock/rock_259.png written!\n",
      "rock/rock_260.png written!\n",
      "rock/rock_261.png written!\n",
      "rock/rock_262.png written!\n",
      "rock/rock_263.png written!\n",
      "rock/rock_264.png written!\n",
      "rock/rock_265.png written!\n",
      "rock/rock_266.png written!\n",
      "rock/rock_267.png written!\n",
      "rock/rock_268.png written!\n",
      "rock/rock_269.png written!\n",
      "rock/rock_270.png written!\n",
      "rock/rock_271.png written!\n",
      "rock/rock_272.png written!\n",
      "rock/rock_273.png written!\n",
      "rock/rock_274.png written!\n",
      "rock/rock_275.png written!\n",
      "rock/rock_276.png written!\n",
      "rock/rock_277.png written!\n",
      "rock/rock_278.png written!\n",
      "rock/rock_279.png written!\n",
      "rock/rock_280.png written!\n",
      "rock/rock_281.png written!\n",
      "rock/rock_282.png written!\n",
      "rock/rock_283.png written!\n",
      "rock/rock_284.png written!\n",
      "rock/rock_285.png written!\n",
      "rock/rock_286.png written!\n",
      "rock/rock_287.png written!\n",
      "rock/rock_288.png written!\n",
      "rock/rock_289.png written!\n",
      "rock/rock_290.png written!\n",
      "rock/rock_291.png written!\n",
      "rock/rock_292.png written!\n",
      "rock/rock_293.png written!\n",
      "rock/rock_294.png written!\n",
      "rock/rock_295.png written!\n",
      "rock/rock_296.png written!\n",
      "rock/rock_297.png written!\n",
      "rock/rock_298.png written!\n",
      "rock/rock_299.png written!\n",
      "paper/paper_200.png written!\n",
      "paper/paper_201.png written!\n",
      "paper/paper_202.png written!\n",
      "paper/paper_203.png written!\n",
      "paper/paper_204.png written!\n",
      "paper/paper_205.png written!\n",
      "paper/paper_206.png written!\n",
      "paper/paper_207.png written!\n",
      "paper/paper_208.png written!\n",
      "paper/paper_209.png written!\n",
      "paper/paper_210.png written!\n",
      "paper/paper_211.png written!\n",
      "paper/paper_212.png written!\n",
      "paper/paper_213.png written!\n",
      "paper/paper_214.png written!\n",
      "paper/paper_215.png written!\n",
      "paper/paper_216.png written!\n",
      "paper/paper_217.png written!\n",
      "paper/paper_218.png written!\n",
      "paper/paper_219.png written!\n",
      "paper/paper_220.png written!\n",
      "paper/paper_221.png written!\n",
      "paper/paper_222.png written!\n",
      "paper/paper_223.png written!\n",
      "paper/paper_224.png written!\n",
      "paper/paper_225.png written!\n",
      "paper/paper_226.png written!\n",
      "paper/paper_227.png written!\n",
      "paper/paper_228.png written!\n",
      "paper/paper_229.png written!\n",
      "paper/paper_230.png written!\n",
      "paper/paper_231.png written!\n",
      "paper/paper_232.png written!\n",
      "paper/paper_233.png written!\n",
      "paper/paper_234.png written!\n",
      "paper/paper_235.png written!\n",
      "paper/paper_236.png written!\n",
      "paper/paper_237.png written!\n",
      "paper/paper_238.png written!\n",
      "paper/paper_239.png written!\n",
      "paper/paper_240.png written!\n",
      "paper/paper_241.png written!\n",
      "paper/paper_242.png written!\n",
      "paper/paper_243.png written!\n",
      "paper/paper_244.png written!\n",
      "paper/paper_245.png written!\n",
      "paper/paper_246.png written!\n",
      "paper/paper_247.png written!\n",
      "paper/paper_248.png written!\n",
      "paper/paper_249.png written!\n",
      "paper/paper_250.png written!\n",
      "paper/paper_251.png written!\n",
      "paper/paper_252.png written!\n",
      "paper/paper_253.png written!\n",
      "paper/paper_254.png written!\n",
      "paper/paper_255.png written!\n",
      "paper/paper_256.png written!\n",
      "paper/paper_257.png written!\n",
      "paper/paper_258.png written!\n",
      "paper/paper_259.png written!\n",
      "paper/paper_260.png written!\n",
      "paper/paper_261.png written!\n",
      "paper/paper_262.png written!\n",
      "paper/paper_263.png written!\n",
      "paper/paper_264.png written!\n",
      "paper/paper_265.png written!\n",
      "paper/paper_266.png written!\n",
      "paper/paper_267.png written!\n",
      "paper/paper_268.png written!\n",
      "paper/paper_269.png written!\n",
      "paper/paper_270.png written!\n",
      "paper/paper_271.png written!\n",
      "paper/paper_272.png written!\n",
      "paper/paper_273.png written!\n",
      "paper/paper_274.png written!\n",
      "paper/paper_275.png written!\n",
      "paper/paper_276.png written!\n",
      "paper/paper_277.png written!\n",
      "paper/paper_278.png written!\n",
      "paper/paper_279.png written!\n",
      "paper/paper_280.png written!\n",
      "paper/paper_281.png written!\n",
      "paper/paper_282.png written!\n",
      "paper/paper_283.png written!\n",
      "paper/paper_284.png written!\n",
      "paper/paper_285.png written!\n",
      "paper/paper_286.png written!\n",
      "paper/paper_287.png written!\n",
      "paper/paper_288.png written!\n",
      "paper/paper_289.png written!\n",
      "paper/paper_290.png written!\n",
      "paper/paper_291.png written!\n",
      "paper/paper_292.png written!\n",
      "paper/paper_293.png written!\n",
      "paper/paper_294.png written!\n",
      "paper/paper_295.png written!\n",
      "paper/paper_296.png written!\n",
      "paper/paper_297.png written!\n",
      "paper/paper_298.png written!\n",
      "paper/paper_299.png written!\n",
      "scissors/scissors_200.png written!\n",
      "scissors/scissors_201.png written!\n",
      "scissors/scissors_202.png written!\n",
      "scissors/scissors_203.png written!\n",
      "scissors/scissors_204.png written!\n",
      "scissors/scissors_205.png written!\n",
      "scissors/scissors_206.png written!\n",
      "scissors/scissors_207.png written!\n",
      "scissors/scissors_208.png written!\n",
      "scissors/scissors_209.png written!\n",
      "scissors/scissors_210.png written!\n",
      "scissors/scissors_211.png written!\n",
      "scissors/scissors_212.png written!\n",
      "scissors/scissors_213.png written!\n",
      "scissors/scissors_214.png written!\n",
      "scissors/scissors_215.png written!\n",
      "scissors/scissors_216.png written!\n",
      "scissors/scissors_217.png written!\n",
      "scissors/scissors_218.png written!\n",
      "scissors/scissors_219.png written!\n",
      "scissors/scissors_220.png written!\n",
      "scissors/scissors_221.png written!\n",
      "scissors/scissors_222.png written!\n",
      "scissors/scissors_223.png written!\n",
      "scissors/scissors_224.png written!\n",
      "scissors/scissors_225.png written!\n",
      "scissors/scissors_226.png written!\n",
      "scissors/scissors_227.png written!\n",
      "scissors/scissors_228.png written!\n",
      "scissors/scissors_229.png written!\n",
      "scissors/scissors_230.png written!\n",
      "scissors/scissors_231.png written!\n",
      "scissors/scissors_232.png written!\n",
      "scissors/scissors_233.png written!\n",
      "scissors/scissors_234.png written!\n",
      "scissors/scissors_235.png written!\n",
      "scissors/scissors_236.png written!\n",
      "scissors/scissors_237.png written!\n",
      "scissors/scissors_238.png written!\n",
      "scissors/scissors_239.png written!\n",
      "scissors/scissors_240.png written!\n",
      "scissors/scissors_241.png written!\n",
      "scissors/scissors_242.png written!\n",
      "scissors/scissors_243.png written!\n",
      "scissors/scissors_244.png written!\n",
      "scissors/scissors_245.png written!\n",
      "scissors/scissors_246.png written!\n",
      "scissors/scissors_247.png written!\n",
      "scissors/scissors_248.png written!\n",
      "scissors/scissors_249.png written!\n",
      "scissors/scissors_250.png written!\n",
      "scissors/scissors_251.png written!\n",
      "scissors/scissors_252.png written!\n",
      "scissors/scissors_253.png written!\n",
      "scissors/scissors_254.png written!\n",
      "scissors/scissors_255.png written!\n",
      "scissors/scissors_256.png written!\n",
      "scissors/scissors_257.png written!\n",
      "scissors/scissors_258.png written!\n",
      "scissors/scissors_259.png written!\n",
      "scissors/scissors_260.png written!\n",
      "scissors/scissors_261.png written!\n",
      "scissors/scissors_262.png written!\n",
      "scissors/scissors_263.png written!\n",
      "scissors/scissors_264.png written!\n",
      "scissors/scissors_265.png written!\n",
      "scissors/scissors_266.png written!\n",
      "scissors/scissors_267.png written!\n",
      "scissors/scissors_268.png written!\n",
      "scissors/scissors_269.png written!\n",
      "scissors/scissors_270.png written!\n",
      "scissors/scissors_271.png written!\n",
      "scissors/scissors_272.png written!\n",
      "scissors/scissors_273.png written!\n",
      "scissors/scissors_274.png written!\n"
     ]
    },
    {
     "name": "stdout",
     "output_type": "stream",
     "text": [
      "scissors/scissors_275.png written!\n",
      "scissors/scissors_276.png written!\n",
      "scissors/scissors_277.png written!\n",
      "scissors/scissors_278.png written!\n",
      "scissors/scissors_279.png written!\n",
      "scissors/scissors_280.png written!\n",
      "scissors/scissors_281.png written!\n",
      "scissors/scissors_282.png written!\n",
      "scissors/scissors_283.png written!\n",
      "scissors/scissors_284.png written!\n",
      "scissors/scissors_285.png written!\n",
      "scissors/scissors_286.png written!\n",
      "scissors/scissors_287.png written!\n",
      "scissors/scissors_288.png written!\n",
      "scissors/scissors_289.png written!\n",
      "scissors/scissors_290.png written!\n",
      "scissors/scissors_291.png written!\n",
      "scissors/scissors_292.png written!\n",
      "scissors/scissors_293.png written!\n",
      "scissors/scissors_294.png written!\n",
      "scissors/scissors_295.png written!\n",
      "scissors/scissors_296.png written!\n",
      "scissors/scissors_297.png written!\n",
      "scissors/scissors_298.png written!\n",
      "scissors/scissors_299.png written!\n",
      "lizard/lizard_200.png written!\n",
      "lizard/lizard_201.png written!\n",
      "lizard/lizard_202.png written!\n",
      "lizard/lizard_203.png written!\n",
      "lizard/lizard_204.png written!\n",
      "lizard/lizard_205.png written!\n",
      "lizard/lizard_206.png written!\n",
      "lizard/lizard_207.png written!\n",
      "lizard/lizard_208.png written!\n",
      "lizard/lizard_209.png written!\n",
      "lizard/lizard_210.png written!\n",
      "lizard/lizard_211.png written!\n",
      "lizard/lizard_212.png written!\n",
      "lizard/lizard_213.png written!\n",
      "lizard/lizard_214.png written!\n",
      "lizard/lizard_215.png written!\n",
      "lizard/lizard_216.png written!\n",
      "lizard/lizard_217.png written!\n",
      "lizard/lizard_218.png written!\n",
      "lizard/lizard_219.png written!\n",
      "lizard/lizard_220.png written!\n",
      "lizard/lizard_221.png written!\n",
      "lizard/lizard_222.png written!\n",
      "lizard/lizard_223.png written!\n",
      "lizard/lizard_224.png written!\n",
      "lizard/lizard_225.png written!\n",
      "lizard/lizard_226.png written!\n",
      "lizard/lizard_227.png written!\n",
      "lizard/lizard_228.png written!\n",
      "lizard/lizard_229.png written!\n",
      "lizard/lizard_230.png written!\n",
      "lizard/lizard_231.png written!\n",
      "lizard/lizard_232.png written!\n",
      "lizard/lizard_233.png written!\n",
      "lizard/lizard_234.png written!\n",
      "lizard/lizard_235.png written!\n",
      "lizard/lizard_236.png written!\n",
      "lizard/lizard_237.png written!\n",
      "lizard/lizard_238.png written!\n",
      "lizard/lizard_239.png written!\n",
      "lizard/lizard_240.png written!\n",
      "lizard/lizard_241.png written!\n",
      "lizard/lizard_242.png written!\n",
      "lizard/lizard_243.png written!\n",
      "lizard/lizard_244.png written!\n",
      "lizard/lizard_245.png written!\n",
      "lizard/lizard_246.png written!\n",
      "lizard/lizard_247.png written!\n",
      "lizard/lizard_248.png written!\n",
      "lizard/lizard_249.png written!\n",
      "lizard/lizard_250.png written!\n",
      "lizard/lizard_251.png written!\n",
      "lizard/lizard_252.png written!\n",
      "lizard/lizard_253.png written!\n",
      "lizard/lizard_254.png written!\n",
      "lizard/lizard_255.png written!\n",
      "lizard/lizard_256.png written!\n",
      "lizard/lizard_257.png written!\n",
      "lizard/lizard_258.png written!\n",
      "lizard/lizard_259.png written!\n",
      "lizard/lizard_260.png written!\n",
      "lizard/lizard_261.png written!\n",
      "lizard/lizard_262.png written!\n",
      "lizard/lizard_263.png written!\n",
      "lizard/lizard_264.png written!\n",
      "lizard/lizard_265.png written!\n",
      "lizard/lizard_266.png written!\n",
      "lizard/lizard_267.png written!\n",
      "lizard/lizard_268.png written!\n",
      "lizard/lizard_269.png written!\n",
      "lizard/lizard_270.png written!\n",
      "lizard/lizard_271.png written!\n",
      "lizard/lizard_272.png written!\n",
      "lizard/lizard_273.png written!\n",
      "lizard/lizard_274.png written!\n",
      "lizard/lizard_275.png written!\n",
      "lizard/lizard_276.png written!\n",
      "lizard/lizard_277.png written!\n",
      "lizard/lizard_278.png written!\n",
      "lizard/lizard_279.png written!\n",
      "lizard/lizard_280.png written!\n",
      "lizard/lizard_281.png written!\n",
      "lizard/lizard_282.png written!\n",
      "lizard/lizard_283.png written!\n",
      "lizard/lizard_284.png written!\n",
      "lizard/lizard_285.png written!\n",
      "lizard/lizard_286.png written!\n",
      "lizard/lizard_287.png written!\n",
      "lizard/lizard_288.png written!\n",
      "lizard/lizard_289.png written!\n",
      "lizard/lizard_290.png written!\n",
      "lizard/lizard_291.png written!\n",
      "lizard/lizard_292.png written!\n",
      "lizard/lizard_293.png written!\n",
      "lizard/lizard_294.png written!\n",
      "lizard/lizard_295.png written!\n",
      "lizard/lizard_296.png written!\n",
      "lizard/lizard_297.png written!\n",
      "lizard/lizard_298.png written!\n",
      "lizard/lizard_299.png written!\n",
      "spock/spock_200.png written!\n",
      "spock/spock_201.png written!\n",
      "spock/spock_202.png written!\n",
      "spock/spock_203.png written!\n",
      "spock/spock_204.png written!\n",
      "spock/spock_205.png written!\n",
      "spock/spock_206.png written!\n",
      "spock/spock_207.png written!\n",
      "spock/spock_208.png written!\n",
      "spock/spock_209.png written!\n",
      "spock/spock_210.png written!\n",
      "spock/spock_211.png written!\n",
      "spock/spock_212.png written!\n",
      "spock/spock_213.png written!\n",
      "spock/spock_214.png written!\n",
      "spock/spock_215.png written!\n",
      "spock/spock_216.png written!\n",
      "spock/spock_217.png written!\n",
      "spock/spock_218.png written!\n",
      "spock/spock_219.png written!\n",
      "spock/spock_220.png written!\n",
      "spock/spock_221.png written!\n",
      "spock/spock_222.png written!\n",
      "spock/spock_223.png written!\n",
      "spock/spock_224.png written!\n",
      "spock/spock_225.png written!\n",
      "spock/spock_226.png written!\n",
      "spock/spock_227.png written!\n",
      "spock/spock_228.png written!\n",
      "spock/spock_229.png written!\n",
      "spock/spock_230.png written!\n",
      "spock/spock_231.png written!\n",
      "spock/spock_232.png written!\n",
      "spock/spock_233.png written!\n",
      "spock/spock_234.png written!\n",
      "spock/spock_235.png written!\n",
      "spock/spock_236.png written!\n",
      "spock/spock_237.png written!\n",
      "spock/spock_238.png written!\n",
      "spock/spock_239.png written!\n",
      "spock/spock_240.png written!\n",
      "spock/spock_241.png written!\n",
      "spock/spock_242.png written!\n",
      "spock/spock_243.png written!\n",
      "spock/spock_244.png written!\n",
      "spock/spock_245.png written!\n",
      "spock/spock_246.png written!\n",
      "spock/spock_247.png written!\n",
      "spock/spock_248.png written!\n",
      "spock/spock_249.png written!\n",
      "spock/spock_250.png written!\n",
      "spock/spock_251.png written!\n",
      "spock/spock_252.png written!\n",
      "spock/spock_253.png written!\n",
      "spock/spock_254.png written!\n",
      "spock/spock_255.png written!\n",
      "spock/spock_256.png written!\n",
      "spock/spock_257.png written!\n",
      "spock/spock_258.png written!\n",
      "spock/spock_259.png written!\n",
      "spock/spock_260.png written!\n",
      "spock/spock_261.png written!\n",
      "spock/spock_262.png written!\n",
      "spock/spock_263.png written!\n",
      "spock/spock_264.png written!\n",
      "spock/spock_265.png written!\n",
      "spock/spock_266.png written!\n",
      "spock/spock_267.png written!\n",
      "spock/spock_268.png written!\n",
      "spock/spock_269.png written!\n",
      "spock/spock_270.png written!\n",
      "spock/spock_271.png written!\n",
      "spock/spock_272.png written!\n",
      "spock/spock_273.png written!\n",
      "spock/spock_274.png written!\n",
      "spock/spock_275.png written!\n",
      "spock/spock_276.png written!\n",
      "spock/spock_277.png written!\n",
      "spock/spock_278.png written!\n",
      "spock/spock_279.png written!\n",
      "spock/spock_280.png written!\n",
      "spock/spock_281.png written!\n",
      "spock/spock_282.png written!\n",
      "spock/spock_283.png written!\n",
      "spock/spock_284.png written!\n",
      "spock/spock_285.png written!\n",
      "spock/spock_286.png written!\n",
      "spock/spock_287.png written!\n",
      "spock/spock_288.png written!\n",
      "spock/spock_289.png written!\n",
      "spock/spock_290.png written!\n",
      "spock/spock_291.png written!\n",
      "spock/spock_292.png written!\n",
      "spock/spock_293.png written!\n",
      "spock/spock_294.png written!\n",
      "spock/spock_295.png written!\n",
      "spock/spock_296.png written!\n",
      "spock/spock_297.png written!\n",
      "spock/spock_298.png written!\n",
      "spock/spock_299.png written!\n"
     ]
    }
   ],
   "source": [
    "# define a video capture object \n",
    "vid = cv2.VideoCapture(0) \n",
    "\n",
    "cv2.namedWindow(\"rock-paper-scissors-lizard-spock\")\n",
    "\n",
    "img_x = 64\n",
    "img_y = 64\n",
    "\n",
    "img_per_gesture = 250\n",
    "\n",
    "# list of gestures to iter through\n",
    "gestures = [\"rock\", \"paper\", \"scissors\", \"lizard\", \"spock\"]\n",
    "\n",
    "# create directory for each gesture\n",
    "def create_directory(dir_name):\n",
    "    if not os.path.exists(dir_name):\n",
    "        os.mkdir(dir_name)\n",
    "\n",
    "# for foreground extraction\n",
    "background_model = np.zeros((1,65),np.float64)\n",
    "foreground_model = np.zeros((1,65),np.float64)\n",
    "rect = (155,0,310,410)\n",
    "\n",
    "\n",
    "for gesture in gestures:\n",
    "    img_counter = 200\n",
    "    \n",
    "    create_directory(gesture)\n",
    "    \n",
    "    while(True): \n",
    "\n",
    "        # capture the video frame by frame \n",
    "        ret, frame = vid.read() \n",
    "\n",
    "        # error messgae if opencv failed to capture frame\n",
    "        if not ret:\n",
    "            print(\"failed to grab frame\")\n",
    "            break\n",
    "            \n",
    "         # draw area to place hand\n",
    "        cv2.putText(frame, \"Place your hand in the green area\", (30, 70), cv2.FONT_HERSHEY_DUPLEX, 0.6, (0, 255, 0), 1)\n",
    "        cv2.rectangle(frame, (30,90), (340,450), (0,255,0), 2)\n",
    "        \n",
    "        # display frame captured\n",
    "        cv2.putText(frame, \"Capturing frame {} of {}\".format(img_counter, gesture), (30, 20), cv2.FONT_HERSHEY_SIMPLEX, 0.8, (120, 255, 255),2)\n",
    "        \n",
    "        # display the resulting frame \n",
    "        cv2.imshow(\"rock-paper-scissors-lizard-spock\", frame)\n",
    "        \n",
    "        # process image \n",
    "        # interactive foreground extraction\n",
    "        mask = np.zeros(frame.shape[:2],np.uint8)\n",
    "        cv2.grabCut(frame,mask,rect,background_model,foreground_model,5,cv2.GC_INIT_WITH_RECT)\n",
    "        mask2 = np.where((mask==2)|(mask==0),0,1).astype('uint8')\n",
    "        frame = frame*mask2[:,:,np.newaxis]\n",
    "        \n",
    "        # convert to grayscale\n",
    "        frame = cv2.cvtColor(frame, cv2.COLOR_BGR2GRAY)\n",
    "        \n",
    "        # save image\n",
    "        img_name = \"{}/{}_{}.png\".format(gesture, gesture, img_counter)\n",
    "        frame = cv2.resize(frame, (img_x, img_y))\n",
    "        cv2.imwrite(img_name, frame)\n",
    "        print(\"{} written!\".format(img_name))\n",
    "        img_counter += 1\n",
    "        \n",
    "        # exit with ESC\n",
    "        k = cv2.waitKey(1)\n",
    "        \n",
    "        if k%256 == 27:\n",
    "            # ESC pressed\n",
    "            print(\"Escape hit, closing...\")\n",
    "            break\n",
    "        \n",
    "        # jump to next gesture\n",
    "        if img_counter == img_per_gesture:\n",
    "            break\n",
    "\n",
    "# after the loop release the cap object \n",
    "vid.release()\n",
    "\n",
    "# destroy all the windows \n",
    "cv2.destroyAllWindows() "
   ]
  },
  {
   "cell_type": "markdown",
   "metadata": {},
   "source": [
    "# PART 2 - Machine Learning Model"
   ]
  },
  {
   "cell_type": "markdown",
   "metadata": {},
   "source": [
    "### Read Dataset"
   ]
  },
  {
   "cell_type": "code",
   "execution_count": 29,
   "metadata": {},
   "outputs": [
    {
     "data": {
      "text/plain": [
       "<matplotlib.image.AxesImage at 0x2363bacbc88>"
      ]
     },
     "execution_count": 29,
     "metadata": {},
     "output_type": "execute_result"
    },
    {
     "data": {
      "image/png": "[encoded data removed]",
      "text/plain": [
       "<Figure size 432x288 with 1 Axes>"
      ]
     },
     "metadata": {
      "needs_background": "light"
     },
     "output_type": "display_data"
    }
   ],
   "source": [
    "import matplotlib.pyplot as plt\n",
    "import glob\n",
    "import numpy as np\n",
    "from skimage import io\n",
    "\n",
    "images = []\n",
    "\n",
    "gestures = [\"rock\", \"paper\", \"scissors\", \"lizard\", \"spock\"]\n",
    "\n",
    "for gesture in gestures:\n",
    "    img_dir = \"{}/*.png\".format(gesture)\n",
    "\n",
    "    tmp = [io.imread(file) for file in glob.glob(img_dir)]\n",
    "    images = images + tmp\n",
    "    \n",
    "# display image as an example\n",
    "plt.imshow(images[802], cmap = \"gray\")"
   ]
  },
  {
   "cell_type": "code",
   "execution_count": 30,
   "metadata": {},
   "outputs": [
    {
     "name": "stdout",
     "output_type": "stream",
     "text": [
      "[[0. 0. 1. 0. 0.]\n",
      " [0. 0. 1. 0. 0.]\n",
      " [0. 0. 1. 0. 0.]\n",
      " ...\n",
      " [0. 0. 0. 0. 1.]\n",
      " [0. 0. 0. 0. 1.]\n",
      " [0. 0. 0. 0. 1.]]\n",
      "['rock']\n"
     ]
    }
   ],
   "source": [
    "# generate one-hot encoded labels\n",
    "\n",
    "from sklearn.preprocessing import LabelEncoder\n",
    "from sklearn.preprocessing import OneHotEncoder\n",
    "\n",
    "text_labels = []\n",
    "\n",
    "img_per_gesture = 200\n",
    "\n",
    "for gesture in gestures:\n",
    "    tmp = [gesture] * img_per_gesture\n",
    "    text_labels = text_labels + tmp\n",
    "\n",
    "text_labels = np.array(text_labels)\n",
    "\n",
    "# integer encode (changes order to alphabetical)\n",
    "label_encoder = LabelEncoder()\n",
    "integer_encoded = label_encoder.fit_transform(text_labels)\n",
    "\n",
    "# binary encode\n",
    "onehot_encoder = OneHotEncoder(sparse=False)\n",
    "integer_encoded = integer_encoded.reshape(len(integer_encoded), 1)\n",
    "onehot_encoded = onehot_encoder.fit_transform(integer_encoded)\n",
    "labels = onehot_encoded\n",
    "print(onehot_encoded)\n",
    "\n",
    "# invert first binary encoded item for checking\n",
    "inverted = label_encoder.inverse_transform([np.argmax(onehot_encoded[0, :])])\n",
    "print(inverted)"
   ]
  },
  {
   "cell_type": "markdown",
   "metadata": {},
   "source": [
    "### Spliting the dataset into train, validation and test"
   ]
  },
  {
   "cell_type": "code",
   "execution_count": 31,
   "metadata": {},
   "outputs": [],
   "source": [
    "from sklearn.model_selection import train_test_split"
   ]
  },
  {
   "cell_type": "code",
   "execution_count": 32,
   "metadata": {},
   "outputs": [],
   "source": [
    "x_train, x_test, y_train, y_test = train_test_split(images, labels, test_size = 0.2, random_state = 123)"
   ]
  },
  {
   "cell_type": "code",
   "execution_count": 33,
   "metadata": {},
   "outputs": [],
   "source": [
    "x_train = np.array(x_train)\n",
    "x_test = np.array(x_test)"
   ]
  },
  {
   "cell_type": "markdown",
   "metadata": {},
   "source": [
    "### Rescale Images"
   ]
  },
  {
   "cell_type": "code",
   "execution_count": 34,
   "metadata": {},
   "outputs": [],
   "source": [
    "# Normalize the images\n",
    "x_train = x_train / 255\n",
    "x_test = x_test / 255"
   ]
  },
  {
   "cell_type": "code",
   "execution_count": 35,
   "metadata": {},
   "outputs": [],
   "source": [
    "x_train = x_train.reshape(*x_train.shape, 1)\n",
    "x_test = x_test.reshape(*x_test.shape, 1)"
   ]
  },
  {
   "cell_type": "markdown",
   "metadata": {},
   "source": [
    "### Building Neural Network"
   ]
  },
  {
   "cell_type": "code",
   "execution_count": 31,
   "metadata": {},
   "outputs": [],
   "source": [
    "from keras.models import Sequential\n",
    "from keras.layers import Dense, Activation, Flatten, Dropout\n",
    "from keras.layers import Conv2D, MaxPooling2D\n",
    "from keras.optimizers import Adam\n",
    "from keras.callbacks import EarlyStopping"
   ]
  },
  {
   "cell_type": "code",
   "execution_count": 32,
   "metadata": {},
   "outputs": [],
   "source": [
    "def create_model(img_x, img_y):\n",
    "    model = Sequential()\n",
    "    model.add(Conv2D(32, kernel_size=(5, 5), activation='relu', input_shape=(img_x, img_y, 1)))\n",
    "    model.add(MaxPooling2D((2, 2)))\n",
    "    model.add(Flatten())\n",
    "    model.add(Dense(100, activation='relu'))\n",
    "    Dropout(0.3),\n",
    "    model.add(Dense(5, activation='softmax'))\n",
    "    \n",
    "    model.compile(optimizer=Adam(learning_rate=0.001), loss='categorical_crossentropy', metrics=['accuracy'])\n",
    "    model.save(\"model.h5\")\n",
    "    \n",
    "    return model"
   ]
  },
  {
   "cell_type": "code",
   "execution_count": 33,
   "metadata": {},
   "outputs": [],
   "source": [
    "model = create_model(x_train.shape[1], x_train.shape[2])"
   ]
  },
  {
   "cell_type": "code",
   "execution_count": 34,
   "metadata": {
    "scrolled": true
   },
   "outputs": [
    {
     "name": "stdout",
     "output_type": "stream",
     "text": [
      "Model: \"sequential_2\"\n",
      "_________________________________________________________________\n",
      "Layer (type)                 Output Shape              Param #   \n",
      "=================================================================\n",
      "conv2d_2 (Conv2D)            (None, 60, 60, 32)        832       \n",
      "_________________________________________________________________\n",
      "max_pooling2d_1 (MaxPooling2 (None, 30, 30, 32)        0         \n",
      "_________________________________________________________________\n",
      "flatten_1 (Flatten)          (None, 28800)             0         \n",
      "_________________________________________________________________\n",
      "dense_1 (Dense)              (None, 100)               2880100   \n",
      "_________________________________________________________________\n",
      "dense_2 (Dense)              (None, 5)                 505       \n",
      "=================================================================\n",
      "Total params: 2,881,437\n",
      "Trainable params: 2,881,437\n",
      "Non-trainable params: 0\n",
      "_________________________________________________________________\n"
     ]
    }
   ],
   "source": [
    "model.summary()"
   ]
  },
  {
   "cell_type": "markdown",
   "metadata": {},
   "source": [
    "### Training the model"
   ]
  },
  {
   "cell_type": "code",
   "execution_count": 35,
   "metadata": {},
   "outputs": [],
   "source": [
    "# set seed for reproducibility\n",
    "from numpy.random import seed\n",
    "\n",
    "seed(123)"
   ]
  },
  {
   "cell_type": "code",
   "execution_count": 36,
   "metadata": {},
   "outputs": [
    {
     "name": "stdout",
     "output_type": "stream",
     "text": [
      "Train on 640 samples, validate on 160 samples\n",
      "Epoch 1/100\n",
      "640/640 [==============================] - 2s 3ms/step - loss: 0.8634 - accuracy: 0.6984 - val_loss: 0.6706 - val_accuracy: 0.7750\n",
      "Epoch 2/100\n",
      "640/640 [==============================] - 2s 2ms/step - loss: 0.2932 - accuracy: 0.9203 - val_loss: 0.3592 - val_accuracy: 0.9187\n",
      "Epoch 3/100\n",
      "640/640 [==============================] - 2s 3ms/step - loss: 0.1379 - accuracy: 0.9547 - val_loss: 0.2845 - val_accuracy: 0.9125\n",
      "Epoch 4/100\n",
      "640/640 [==============================] - 2s 3ms/step - loss: 0.0506 - accuracy: 0.9891 - val_loss: 0.3108 - val_accuracy: 0.9125\n",
      "Epoch 5/100\n",
      "640/640 [==============================] - 2s 2ms/step - loss: 0.0415 - accuracy: 0.9906 - val_loss: 0.2473 - val_accuracy: 0.9187\n",
      "Epoch 6/100\n",
      "640/640 [==============================] - 2s 2ms/step - loss: 0.0163 - accuracy: 1.0000 - val_loss: 0.2293 - val_accuracy: 0.9438\n",
      "Epoch 7/100\n",
      "640/640 [==============================] - 2s 3ms/step - loss: 0.0074 - accuracy: 1.0000 - val_loss: 0.2265 - val_accuracy: 0.9312\n",
      "Epoch 8/100\n",
      "640/640 [==============================] - 2s 2ms/step - loss: 0.0051 - accuracy: 1.0000 - val_loss: 0.2428 - val_accuracy: 0.9312\n",
      "Epoch 9/100\n",
      "640/640 [==============================] - 2s 2ms/step - loss: 0.0035 - accuracy: 1.0000 - val_loss: 0.2277 - val_accuracy: 0.9250\n",
      "Epoch 10/100\n",
      "640/640 [==============================] - 2s 3ms/step - loss: 0.0029 - accuracy: 1.0000 - val_loss: 0.2127 - val_accuracy: 0.9312\n",
      "Epoch 11/100\n",
      "640/640 [==============================] - 2s 3ms/step - loss: 0.0022 - accuracy: 1.0000 - val_loss: 0.2105 - val_accuracy: 0.9375\n",
      "Epoch 12/100\n",
      "640/640 [==============================] - 2s 3ms/step - loss: 0.0018 - accuracy: 1.0000 - val_loss: 0.2226 - val_accuracy: 0.9187\n",
      "Epoch 13/100\n",
      "640/640 [==============================] - 2s 3ms/step - loss: 0.0015 - accuracy: 1.0000 - val_loss: 0.2277 - val_accuracy: 0.9250\n",
      "Epoch 14/100\n",
      "640/640 [==============================] - 2s 3ms/step - loss: 0.0013 - accuracy: 1.0000 - val_loss: 0.2238 - val_accuracy: 0.9250\n"
     ]
    }
   ],
   "source": [
    "cnn = model.fit(x_train, \n",
    "                y_train,  \n",
    "                epochs=100, \n",
    "                batch_size=20,\n",
    "                validation_split=0.2,\n",
    "                callbacks=[EarlyStopping(patience=3)])"
   ]
  },
  {
   "cell_type": "markdown",
   "metadata": {},
   "source": [
    "The algorithm stopped after epoch 14 due to early stopping. The figure below shows the training and validation accuracy over time. We can see how the validation accuracy is plateauing while the training accuracy continues to improve as we star to overfit."
   ]
  },
  {
   "cell_type": "code",
   "execution_count": 37,
   "metadata": {},
   "outputs": [
    {
     "data": {
      "image/png": "[encoded data removed]",
      "text/plain": [
       "<Figure size 432x288 with 1 Axes>"
      ]
     },
     "metadata": {
      "needs_background": "light"
     },
     "output_type": "display_data"
    }
   ],
   "source": [
    "plt.plot(cnn.history['accuracy'])\n",
    "plt.plot(cnn.history['val_accuracy'])\n",
    "plt.title(\"Accuracy\")\n",
    "plt.xlabel('epoch')\n",
    "plt.ylabel('accuracy')\n",
    "plt.legend(['train','validation'])\n",
    "\n",
    "plt.show()"
   ]
  },
  {
   "cell_type": "markdown",
   "metadata": {},
   "source": [
    "### Evaluating the model"
   ]
  },
  {
   "cell_type": "code",
   "execution_count": 38,
   "metadata": {},
   "outputs": [
    {
     "name": "stdout",
     "output_type": "stream",
     "text": [
      "200/200 [==============================] - 0s 475us/step\n",
      "accuracy: 95.50%\n"
     ]
    }
   ],
   "source": [
    "score = model.evaluate(\n",
    "  x_test,\n",
    "  y_test\n",
    ")\n",
    "\n",
    "print(\"%s: %.2f%%\" % (model.metrics_names[1], score[1]*100))"
   ]
  },
  {
   "cell_type": "markdown",
   "metadata": {},
   "source": [
    "### Confusion matrix"
   ]
  },
  {
   "cell_type": "code",
   "execution_count": 39,
   "metadata": {},
   "outputs": [],
   "source": [
    "from sklearn.metrics import classification_report, confusion_matrix\n",
    "from sklearn.metrics import plot_confusion_matrix"
   ]
  },
  {
   "cell_type": "code",
   "execution_count": 40,
   "metadata": {},
   "outputs": [],
   "source": [
    "seed(123)\n",
    "\n",
    "y_pred = model.predict_classes(x_test)\n",
    "y_test_original=np.argmax(y_test,axis=1) # before one-hot encoding"
   ]
  },
  {
   "cell_type": "code",
   "execution_count": 41,
   "metadata": {
    "scrolled": true
   },
   "outputs": [
    {
     "name": "stdout",
     "output_type": "stream",
     "text": [
      "Classification report \n",
      "=======================\n",
      "              precision    recall  f1-score   support\n",
      "\n",
      "           0       0.98      0.98      0.98        41\n",
      "           1       1.00      0.93      0.97        45\n",
      "           2       0.95      1.00      0.98        42\n",
      "           3       0.89      0.92      0.91        26\n",
      "           4       0.93      0.93      0.93        46\n",
      "\n",
      "    accuracy                           0.95       200\n",
      "   macro avg       0.95      0.95      0.95       200\n",
      "weighted avg       0.96      0.95      0.96       200\n",
      "\n"
     ]
    }
   ],
   "source": [
    "print(\"Classification report \\n=======================\")\n",
    "print(classification_report(y_true=y_test_original, y_pred=y_pred))"
   ]
  },
  {
   "cell_type": "code",
   "execution_count": 42,
   "metadata": {
    "scrolled": false
   },
   "outputs": [
    {
     "data": {
      "image/png": "[encoded data removed]",
      "text/plain": [
       "<Figure size 432x288 with 2 Axes>"
      ]
     },
     "metadata": {
      "needs_background": "light"
     },
     "output_type": "display_data"
    }
   ],
   "source": [
    "import scikitplot as skplt\n",
    "skplt.metrics.plot_confusion_matrix(y_test_original, y_pred, normalize=False)\n",
    "plt.show()"
   ]
  },
  {
   "cell_type": "markdown",
   "metadata": {},
   "source": [
    "# PART 3 - Application"
   ]
  },
  {
   "cell_type": "code",
   "execution_count": 115,
   "metadata": {},
   "outputs": [],
   "source": [
    "import cv2 \n",
    "import os\n",
    "import numpy as np\n",
    "import glob\n",
    "from random import randint\n",
    "from skimage import io\n",
    "import matplotlib.pyplot as plt"
   ]
  },
  {
   "cell_type": "code",
   "execution_count": 116,
   "metadata": {},
   "outputs": [
    {
     "name": "stdout",
     "output_type": "stream",
     "text": [
      "Model: \"sequential_2\"\n",
      "_________________________________________________________________\n",
      "Layer (type)                 Output Shape              Param #   \n",
      "=================================================================\n",
      "conv2d_2 (Conv2D)            (None, 60, 60, 32)        832       \n",
      "_________________________________________________________________\n",
      "max_pooling2d_1 (MaxPooling2 (None, 30, 30, 32)        0         \n",
      "_________________________________________________________________\n",
      "flatten_1 (Flatten)          (None, 28800)             0         \n",
      "_________________________________________________________________\n",
      "dense_1 (Dense)              (None, 100)               2880100   \n",
      "_________________________________________________________________\n",
      "dense_2 (Dense)              (None, 5)                 505       \n",
      "=================================================================\n",
      "Total params: 2,881,437\n",
      "Trainable params: 2,881,437\n",
      "Non-trainable params: 0\n",
      "_________________________________________________________________\n"
     ]
    }
   ],
   "source": [
    "from keras.models import load_model\n",
    "\n",
    "model = load_model('model.h5')\n",
    "model.summary()"
   ]
  },
  {
   "cell_type": "code",
   "execution_count": 117,
   "metadata": {},
   "outputs": [],
   "source": [
    "def get_result(cpu, user_predicted):\n",
    "    if user_predicted == 0 and (cpu == 2 or cpu == 3):\n",
    "        return \"cpu\"\n",
    "    if user_predicted == 1 and (cpu == 0 or cpu == 3):\n",
    "        return \"cpu\"\n",
    "    if user_predicted == 2 and (cpu == 1 or cpu == 4):\n",
    "        return \"cpu\"\n",
    "    if user_predicted == 3 and (cpu == 2 or cpu == 4):\n",
    "        return \"cpu\"\n",
    "    if user_predicted == 4 and (cpu == 0 or cpu == 1):\n",
    "        return \"cpu\"\n",
    "    if user_predicted == cpu:\n",
    "        return \"tie\"\n",
    "    \n",
    "    return \"user\""
   ]
  },
  {
   "cell_type": "code",
   "execution_count": 118,
   "metadata": {},
   "outputs": [],
   "source": [
    "def get_clipart():\n",
    "    img = []\n",
    "\n",
    "    for gesture in gestures:\n",
    "        img_dir = \"{}/*.png\".format(gesture)\n",
    "\n",
    "        img = [io.imread(file) for file in glob.glob(\"clipart/*.png\")]\n",
    "    \n",
    "    return img"
   ]
  },
  {
   "cell_type": "code",
   "execution_count": 119,
   "metadata": {},
   "outputs": [],
   "source": [
    "def overlay_clipart(frame, clipart, x, y, w ,h):\n",
    "    clipart = cv2.resize(clipart, (w, h))\n",
    "    \n",
    "    frame_width = frame.shape[1]\n",
    "    frame_height = frame.shape[0]\n",
    "\n",
    "    if x >= frame_width or y >= frame_height:\n",
    "        return frame\n",
    "\n",
    "    h, w = clipart.shape[0], clipart.shape[1]\n",
    "\n",
    "    if x + w > frame_width:\n",
    "        w = frame_width - x\n",
    "        clipart = clipart[:, :w]\n",
    "\n",
    "    if y + h > frame_height:\n",
    "        h = frame_height - y\n",
    "        clipart = clipart[:h]\n",
    "\n",
    "    if clipart.shape[2] < 4:\n",
    "        clipart = np.concatenate(\n",
    "            [\n",
    "                clipart,\n",
    "                np.ones((clipart.shape[0], clipart.shape[1], 1), dtype = clipart.dtype) * 255\n",
    "            ],\n",
    "            axis = 2,\n",
    "        )\n",
    "\n",
    "    clipart_image = clipart[..., :3]\n",
    "    mask = clipart[..., 3:] / 255.0\n",
    "\n",
    "    frame[y:y+h, x:x+w] = (1.0 - mask) * frame[y:y+h, x:x+w] + mask * clipart_image\n",
    "\n",
    "    return frame"
   ]
  },
  {
   "cell_type": "code",
   "execution_count": 120,
   "metadata": {},
   "outputs": [],
   "source": [
    "def main(your_name):\n",
    "    user_name = your_name\n",
    "    \n",
    "    clipart = get_clipart()\n",
    "    \n",
    "    model = load_model('model.h5')\n",
    "    \n",
    "    vid = cv2.VideoCapture(0) \n",
    "\n",
    "    img_x = 64\n",
    "    img_y = 64\n",
    "\n",
    "    gestures = [\"rock\", \"paper\", \"scissors\", \"lizard\", \"spock\"]\n",
    "    \n",
    "    # for foreground extraction\n",
    "    background_model = np.zeros((1,65),np.float64)\n",
    "    foreground_model = np.zeros((1,65),np.float64)\n",
    "    rect = (30,90,310,360)\n",
    "    \n",
    "    while(vid.isOpened()): \n",
    "\n",
    "        # capture the video frame by frame \n",
    "        ret, frame = vid.read() \n",
    "\n",
    "        # error messgae if opencv failed to capture frame\n",
    "        if not ret:\n",
    "            print(\"failed to grab frame\")\n",
    "            break \n",
    "        \n",
    "        # draw area to place hand\n",
    "        cv2.putText(frame, \"Place your hand in the green area\", (30, 70), cv2.FONT_HERSHEY_DUPLEX, 0.6, (0, 255, 0), 1)\n",
    "        cv2.rectangle(frame, (30,90), (340,450), (0,255,0), 2)\n",
    "        \n",
    "        # process image \n",
    "        # interactive foreground extraction\n",
    "        mask = np.zeros(frame.shape[:2],np.uint8)\n",
    "        cv2.grabCut(frame,mask,rect,background_model,foreground_model,5,cv2.GC_INIT_WITH_RECT)\n",
    "        mask2 = np.where((mask==2)|(mask==0),0,1).astype('uint8')\n",
    "        processed_frame = frame*mask2[:,:,np.newaxis]\n",
    "        \n",
    "        # convert to grayscale\n",
    "        processed_frame = cv2.cvtColor(processed_frame, cv2.COLOR_BGR2GRAY)\n",
    "        \n",
    "        # resize\n",
    "        processed_frame = cv2.resize(processed_frame, (img_x, img_y))\n",
    "        \n",
    "        # process\n",
    "        processed_frame = processed_frame / 255\n",
    "        processed_frame = processed_frame.reshape(64,64)\n",
    "        processed_frame = processed_frame.reshape(1, *processed_frame.shape)\n",
    "        processed_frame = processed_frame.reshape(*processed_frame.shape, 1)\n",
    "        \n",
    "        plt.imshow(processed_frame.reshape(64,64), cmap = \"gray\")\n",
    "        \n",
    "        # predict\n",
    "        user_predicted = model.predict_classes(processed_frame)\n",
    "        \n",
    "        # draw random for cpu\n",
    "        cpu = randint(0,4)\n",
    "        \n",
    "        # image overlay\n",
    "        frame = overlay_clipart(frame, clipart[user_predicted[0]], 410, 55, 80, 80)\n",
    "        frame = overlay_clipart(frame, clipart[cpu], 530, 55, 80, 80)\n",
    "        \n",
    "        # display result\n",
    "        result = get_result(cpu, user_predicted)\n",
    "        \n",
    "        cv2.putText(frame, user_name, (380, 40), cv2.FONT_HERSHEY_DUPLEX, 1, (90, 141, 230), 2)\n",
    "        cv2.putText(frame, \"CPU\", (560, 40), cv2.FONT_HERSHEY_DUPLEX, 1, (255, 218, 129), 2)\n",
    "        cv2.putText(frame, \"WINNER: \", (400, 170), cv2.FONT_HERSHEY_DUPLEX, 1, (255, 255, 0), 2)\n",
    "        \n",
    "        if result == \"user\":\n",
    "            cv2.putText(frame, user_name, (550, 170), cv2.FONT_HERSHEY_DUPLEX, 1, (90, 141, 230), 2)\n",
    "        elif result == \"cpu\":\n",
    "            cv2.putText(frame, \"CPU\", (550, 170), cv2.FONT_HERSHEY_DUPLEX, 1, (255, 218, 129), 2)\n",
    "        elif result == \"tie\":\n",
    "            cv2.putText(frame, \"TIE\", (550, 170), cv2.FONT_HERSHEY_DUPLEX, 1, (128, 0, 255), 2)\n",
    "        else:\n",
    "            pass\n",
    "        \n",
    "        # display the resulting frame \n",
    "        cv2.imshow(\"GameOn\", frame)\n",
    "        \n",
    "        # exit with ESC\n",
    "        k = cv2.waitKey(1)\n",
    "        \n",
    "        if k%256 == 27:\n",
    "            # ESC pressed\n",
    "            print(\"Escape hit, closing...\")\n",
    "            break\n",
    "    \n",
    "    # after the loop release the cap object \n",
    "    vid.release()\n",
    "\n",
    "    # destroy all the windows \n",
    "    cv2.destroyAllWindows() "
   ]
  },
  {
   "cell_type": "code",
   "execution_count": 121,
   "metadata": {},
   "outputs": [],
   "source": [
    "gestures = [\"rock\", \"paper\", \"scissors\", \"lizard\", \"spock\"]"
   ]
  },
  {
   "cell_type": "code",
   "execution_count": 123,
   "metadata": {},
   "outputs": [
    {
     "name": "stdout",
     "output_type": "stream",
     "text": [
      "Escape hit, closing...\n"
     ]
    },
    {
     "data": {
      "image/png": "[encoded data removed]",
      "text/plain": [
       "<Figure size 432x288 with 1 Axes>"
      ]
     },
     "metadata": {
      "needs_background": "light"
     },
     "output_type": "display_data"
    }
   ],
   "source": [
    "main(\"VERA\")"
   ]
  },
  {
   "cell_type": "code",
   "execution_count": null,
   "metadata": {},
   "outputs": [],
   "source": []
  }
 ],
 "metadata": {
  "kernelspec": {
   "display_name": "Python 3",
   "language": "python",
   "name": "python3"
  },
  "language_info": {
   "codemirror_mode": {
    "name": "ipython",
    "version": 3
   },
   "file_extension": ".py",
   "mimetype": "text/x-python",
   "name": "python",
   "nbconvert_exporter": "python",
   "pygments_lexer": "ipython3",
   "version": "3.7.7"
  }
 },
 "nbformat": 4,
 "nbformat_minor": 4
}
